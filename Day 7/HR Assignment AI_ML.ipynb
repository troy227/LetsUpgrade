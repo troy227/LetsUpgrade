{
 "cells": [
  {
   "cell_type": "code",
   "execution_count": 1,
   "metadata": {},
   "outputs": [],
   "source": [
    "import pandas as pd\n",
    "import numpy as np\n",
    "import seaborn as sns\n",
    "import matplotlib.pyplot as plt"
   ]
  },
  {
   "cell_type": "code",
   "execution_count": 2,
   "metadata": {},
   "outputs": [],
   "source": [
    "df=pd.read_csv(r\"C:\\Users\\Tushar\\Desktop\\Day-7\\Assignment\\general_data.csv\")"
   ]
  },
  {
   "cell_type": "code",
   "execution_count": 3,
   "metadata": {},
   "outputs": [
    {
     "data": {
      "text/html": [
       "<div>\n",
       "<style scoped>\n",
       "    .dataframe tbody tr th:only-of-type {\n",
       "        vertical-align: middle;\n",
       "    }\n",
       "\n",
       "    .dataframe tbody tr th {\n",
       "        vertical-align: top;\n",
       "    }\n",
       "\n",
       "    .dataframe thead th {\n",
       "        text-align: right;\n",
       "    }\n",
       "</style>\n",
       "<table border=\"1\" class=\"dataframe\">\n",
       "  <thead>\n",
       "    <tr style=\"text-align: right;\">\n",
       "      <th></th>\n",
       "      <th>Age</th>\n",
       "      <th>Attrition</th>\n",
       "      <th>BusinessTravel</th>\n",
       "      <th>Department</th>\n",
       "      <th>DistanceFromHome</th>\n",
       "      <th>Education</th>\n",
       "      <th>EducationField</th>\n",
       "      <th>EmployeeCount</th>\n",
       "      <th>EmployeeID</th>\n",
       "      <th>Gender</th>\n",
       "      <th>...</th>\n",
       "      <th>NumCompaniesWorked</th>\n",
       "      <th>Over18</th>\n",
       "      <th>PercentSalaryHike</th>\n",
       "      <th>StandardHours</th>\n",
       "      <th>StockOptionLevel</th>\n",
       "      <th>TotalWorkingYears</th>\n",
       "      <th>TrainingTimesLastYear</th>\n",
       "      <th>YearsAtCompany</th>\n",
       "      <th>YearsSinceLastPromotion</th>\n",
       "      <th>YearsWithCurrManager</th>\n",
       "    </tr>\n",
       "  </thead>\n",
       "  <tbody>\n",
       "    <tr>\n",
       "      <th>0</th>\n",
       "      <td>51</td>\n",
       "      <td>No</td>\n",
       "      <td>Travel_Rarely</td>\n",
       "      <td>Sales</td>\n",
       "      <td>6</td>\n",
       "      <td>2</td>\n",
       "      <td>Life Sciences</td>\n",
       "      <td>1</td>\n",
       "      <td>1</td>\n",
       "      <td>Female</td>\n",
       "      <td>...</td>\n",
       "      <td>1.0</td>\n",
       "      <td>Y</td>\n",
       "      <td>11</td>\n",
       "      <td>8</td>\n",
       "      <td>0</td>\n",
       "      <td>1.0</td>\n",
       "      <td>6</td>\n",
       "      <td>1</td>\n",
       "      <td>0</td>\n",
       "      <td>0</td>\n",
       "    </tr>\n",
       "    <tr>\n",
       "      <th>1</th>\n",
       "      <td>31</td>\n",
       "      <td>Yes</td>\n",
       "      <td>Travel_Frequently</td>\n",
       "      <td>Research &amp; Development</td>\n",
       "      <td>10</td>\n",
       "      <td>1</td>\n",
       "      <td>Life Sciences</td>\n",
       "      <td>1</td>\n",
       "      <td>2</td>\n",
       "      <td>Female</td>\n",
       "      <td>...</td>\n",
       "      <td>0.0</td>\n",
       "      <td>Y</td>\n",
       "      <td>23</td>\n",
       "      <td>8</td>\n",
       "      <td>1</td>\n",
       "      <td>6.0</td>\n",
       "      <td>3</td>\n",
       "      <td>5</td>\n",
       "      <td>1</td>\n",
       "      <td>4</td>\n",
       "    </tr>\n",
       "  </tbody>\n",
       "</table>\n",
       "<p>2 rows × 24 columns</p>\n",
       "</div>"
      ],
      "text/plain": [
       "   Age Attrition     BusinessTravel              Department  DistanceFromHome  \\\n",
       "0   51        No      Travel_Rarely                   Sales                 6   \n",
       "1   31       Yes  Travel_Frequently  Research & Development                10   \n",
       "\n",
       "   Education EducationField  EmployeeCount  EmployeeID  Gender  ...  \\\n",
       "0          2  Life Sciences              1           1  Female  ...   \n",
       "1          1  Life Sciences              1           2  Female  ...   \n",
       "\n",
       "   NumCompaniesWorked Over18 PercentSalaryHike  StandardHours  \\\n",
       "0                 1.0      Y                11              8   \n",
       "1                 0.0      Y                23              8   \n",
       "\n",
       "   StockOptionLevel TotalWorkingYears  TrainingTimesLastYear  YearsAtCompany  \\\n",
       "0                 0               1.0                      6               1   \n",
       "1                 1               6.0                      3               5   \n",
       "\n",
       "   YearsSinceLastPromotion  YearsWithCurrManager  \n",
       "0                        0                     0  \n",
       "1                        1                     4  \n",
       "\n",
       "[2 rows x 24 columns]"
      ]
     },
     "execution_count": 3,
     "metadata": {},
     "output_type": "execute_result"
    }
   ],
   "source": [
    "df.head(2)"
   ]
  },
  {
   "cell_type": "code",
   "execution_count": 4,
   "metadata": {},
   "outputs": [
    {
     "data": {
      "text/plain": [
       "(4410, 24)"
      ]
     },
     "execution_count": 4,
     "metadata": {},
     "output_type": "execute_result"
    }
   ],
   "source": [
    "df.shape"
   ]
  },
  {
   "cell_type": "code",
   "execution_count": 5,
   "metadata": {},
   "outputs": [],
   "source": [
    "df.drop_duplicates(inplace=True)"
   ]
  },
  {
   "cell_type": "code",
   "execution_count": 6,
   "metadata": {},
   "outputs": [
    {
     "data": {
      "text/plain": [
       "(4410, 24)"
      ]
     },
     "execution_count": 6,
     "metadata": {},
     "output_type": "execute_result"
    }
   ],
   "source": [
    "df.shape"
   ]
  },
  {
   "cell_type": "code",
   "execution_count": 7,
   "metadata": {},
   "outputs": [
    {
     "data": {
      "text/html": [
       "<div>\n",
       "<style scoped>\n",
       "    .dataframe tbody tr th:only-of-type {\n",
       "        vertical-align: middle;\n",
       "    }\n",
       "\n",
       "    .dataframe tbody tr th {\n",
       "        vertical-align: top;\n",
       "    }\n",
       "\n",
       "    .dataframe thead th {\n",
       "        text-align: right;\n",
       "    }\n",
       "</style>\n",
       "<table border=\"1\" class=\"dataframe\">\n",
       "  <thead>\n",
       "    <tr style=\"text-align: right;\">\n",
       "      <th></th>\n",
       "      <th>Age</th>\n",
       "      <th>DistanceFromHome</th>\n",
       "      <th>Education</th>\n",
       "      <th>EmployeeCount</th>\n",
       "      <th>EmployeeID</th>\n",
       "      <th>JobLevel</th>\n",
       "      <th>MonthlyIncome</th>\n",
       "      <th>NumCompaniesWorked</th>\n",
       "      <th>PercentSalaryHike</th>\n",
       "      <th>StandardHours</th>\n",
       "      <th>StockOptionLevel</th>\n",
       "      <th>TotalWorkingYears</th>\n",
       "      <th>TrainingTimesLastYear</th>\n",
       "      <th>YearsAtCompany</th>\n",
       "      <th>YearsSinceLastPromotion</th>\n",
       "      <th>YearsWithCurrManager</th>\n",
       "    </tr>\n",
       "  </thead>\n",
       "  <tbody>\n",
       "    <tr>\n",
       "      <th>count</th>\n",
       "      <td>4410.000000</td>\n",
       "      <td>4410.000000</td>\n",
       "      <td>4410.000000</td>\n",
       "      <td>4410.0</td>\n",
       "      <td>4410.000000</td>\n",
       "      <td>4410.000000</td>\n",
       "      <td>4410.000000</td>\n",
       "      <td>4391.000000</td>\n",
       "      <td>4410.000000</td>\n",
       "      <td>4410.0</td>\n",
       "      <td>4410.000000</td>\n",
       "      <td>4401.000000</td>\n",
       "      <td>4410.000000</td>\n",
       "      <td>4410.000000</td>\n",
       "      <td>4410.000000</td>\n",
       "      <td>4410.000000</td>\n",
       "    </tr>\n",
       "    <tr>\n",
       "      <th>mean</th>\n",
       "      <td>36.923810</td>\n",
       "      <td>9.192517</td>\n",
       "      <td>2.912925</td>\n",
       "      <td>1.0</td>\n",
       "      <td>2205.500000</td>\n",
       "      <td>2.063946</td>\n",
       "      <td>65029.312925</td>\n",
       "      <td>2.694830</td>\n",
       "      <td>15.209524</td>\n",
       "      <td>8.0</td>\n",
       "      <td>0.793878</td>\n",
       "      <td>11.279936</td>\n",
       "      <td>2.799320</td>\n",
       "      <td>7.008163</td>\n",
       "      <td>2.187755</td>\n",
       "      <td>4.123129</td>\n",
       "    </tr>\n",
       "    <tr>\n",
       "      <th>std</th>\n",
       "      <td>9.133301</td>\n",
       "      <td>8.105026</td>\n",
       "      <td>1.023933</td>\n",
       "      <td>0.0</td>\n",
       "      <td>1273.201673</td>\n",
       "      <td>1.106689</td>\n",
       "      <td>47068.888559</td>\n",
       "      <td>2.498887</td>\n",
       "      <td>3.659108</td>\n",
       "      <td>0.0</td>\n",
       "      <td>0.851883</td>\n",
       "      <td>7.782222</td>\n",
       "      <td>1.288978</td>\n",
       "      <td>6.125135</td>\n",
       "      <td>3.221699</td>\n",
       "      <td>3.567327</td>\n",
       "    </tr>\n",
       "    <tr>\n",
       "      <th>min</th>\n",
       "      <td>18.000000</td>\n",
       "      <td>1.000000</td>\n",
       "      <td>1.000000</td>\n",
       "      <td>1.0</td>\n",
       "      <td>1.000000</td>\n",
       "      <td>1.000000</td>\n",
       "      <td>10090.000000</td>\n",
       "      <td>0.000000</td>\n",
       "      <td>11.000000</td>\n",
       "      <td>8.0</td>\n",
       "      <td>0.000000</td>\n",
       "      <td>0.000000</td>\n",
       "      <td>0.000000</td>\n",
       "      <td>0.000000</td>\n",
       "      <td>0.000000</td>\n",
       "      <td>0.000000</td>\n",
       "    </tr>\n",
       "    <tr>\n",
       "      <th>25%</th>\n",
       "      <td>30.000000</td>\n",
       "      <td>2.000000</td>\n",
       "      <td>2.000000</td>\n",
       "      <td>1.0</td>\n",
       "      <td>1103.250000</td>\n",
       "      <td>1.000000</td>\n",
       "      <td>29110.000000</td>\n",
       "      <td>1.000000</td>\n",
       "      <td>12.000000</td>\n",
       "      <td>8.0</td>\n",
       "      <td>0.000000</td>\n",
       "      <td>6.000000</td>\n",
       "      <td>2.000000</td>\n",
       "      <td>3.000000</td>\n",
       "      <td>0.000000</td>\n",
       "      <td>2.000000</td>\n",
       "    </tr>\n",
       "    <tr>\n",
       "      <th>50%</th>\n",
       "      <td>36.000000</td>\n",
       "      <td>7.000000</td>\n",
       "      <td>3.000000</td>\n",
       "      <td>1.0</td>\n",
       "      <td>2205.500000</td>\n",
       "      <td>2.000000</td>\n",
       "      <td>49190.000000</td>\n",
       "      <td>2.000000</td>\n",
       "      <td>14.000000</td>\n",
       "      <td>8.0</td>\n",
       "      <td>1.000000</td>\n",
       "      <td>10.000000</td>\n",
       "      <td>3.000000</td>\n",
       "      <td>5.000000</td>\n",
       "      <td>1.000000</td>\n",
       "      <td>3.000000</td>\n",
       "    </tr>\n",
       "    <tr>\n",
       "      <th>75%</th>\n",
       "      <td>43.000000</td>\n",
       "      <td>14.000000</td>\n",
       "      <td>4.000000</td>\n",
       "      <td>1.0</td>\n",
       "      <td>3307.750000</td>\n",
       "      <td>3.000000</td>\n",
       "      <td>83800.000000</td>\n",
       "      <td>4.000000</td>\n",
       "      <td>18.000000</td>\n",
       "      <td>8.0</td>\n",
       "      <td>1.000000</td>\n",
       "      <td>15.000000</td>\n",
       "      <td>3.000000</td>\n",
       "      <td>9.000000</td>\n",
       "      <td>3.000000</td>\n",
       "      <td>7.000000</td>\n",
       "    </tr>\n",
       "    <tr>\n",
       "      <th>max</th>\n",
       "      <td>60.000000</td>\n",
       "      <td>29.000000</td>\n",
       "      <td>5.000000</td>\n",
       "      <td>1.0</td>\n",
       "      <td>4410.000000</td>\n",
       "      <td>5.000000</td>\n",
       "      <td>199990.000000</td>\n",
       "      <td>9.000000</td>\n",
       "      <td>25.000000</td>\n",
       "      <td>8.0</td>\n",
       "      <td>3.000000</td>\n",
       "      <td>40.000000</td>\n",
       "      <td>6.000000</td>\n",
       "      <td>40.000000</td>\n",
       "      <td>15.000000</td>\n",
       "      <td>17.000000</td>\n",
       "    </tr>\n",
       "  </tbody>\n",
       "</table>\n",
       "</div>"
      ],
      "text/plain": [
       "               Age  DistanceFromHome    Education  EmployeeCount   EmployeeID  \\\n",
       "count  4410.000000       4410.000000  4410.000000         4410.0  4410.000000   \n",
       "mean     36.923810          9.192517     2.912925            1.0  2205.500000   \n",
       "std       9.133301          8.105026     1.023933            0.0  1273.201673   \n",
       "min      18.000000          1.000000     1.000000            1.0     1.000000   \n",
       "25%      30.000000          2.000000     2.000000            1.0  1103.250000   \n",
       "50%      36.000000          7.000000     3.000000            1.0  2205.500000   \n",
       "75%      43.000000         14.000000     4.000000            1.0  3307.750000   \n",
       "max      60.000000         29.000000     5.000000            1.0  4410.000000   \n",
       "\n",
       "          JobLevel  MonthlyIncome  NumCompaniesWorked  PercentSalaryHike  \\\n",
       "count  4410.000000    4410.000000         4391.000000        4410.000000   \n",
       "mean      2.063946   65029.312925            2.694830          15.209524   \n",
       "std       1.106689   47068.888559            2.498887           3.659108   \n",
       "min       1.000000   10090.000000            0.000000          11.000000   \n",
       "25%       1.000000   29110.000000            1.000000          12.000000   \n",
       "50%       2.000000   49190.000000            2.000000          14.000000   \n",
       "75%       3.000000   83800.000000            4.000000          18.000000   \n",
       "max       5.000000  199990.000000            9.000000          25.000000   \n",
       "\n",
       "       StandardHours  StockOptionLevel  TotalWorkingYears  \\\n",
       "count         4410.0       4410.000000        4401.000000   \n",
       "mean             8.0          0.793878          11.279936   \n",
       "std              0.0          0.851883           7.782222   \n",
       "min              8.0          0.000000           0.000000   \n",
       "25%              8.0          0.000000           6.000000   \n",
       "50%              8.0          1.000000          10.000000   \n",
       "75%              8.0          1.000000          15.000000   \n",
       "max              8.0          3.000000          40.000000   \n",
       "\n",
       "       TrainingTimesLastYear  YearsAtCompany  YearsSinceLastPromotion  \\\n",
       "count            4410.000000     4410.000000              4410.000000   \n",
       "mean                2.799320        7.008163                 2.187755   \n",
       "std                 1.288978        6.125135                 3.221699   \n",
       "min                 0.000000        0.000000                 0.000000   \n",
       "25%                 2.000000        3.000000                 0.000000   \n",
       "50%                 3.000000        5.000000                 1.000000   \n",
       "75%                 3.000000        9.000000                 3.000000   \n",
       "max                 6.000000       40.000000                15.000000   \n",
       "\n",
       "       YearsWithCurrManager  \n",
       "count           4410.000000  \n",
       "mean               4.123129  \n",
       "std                3.567327  \n",
       "min                0.000000  \n",
       "25%                2.000000  \n",
       "50%                3.000000  \n",
       "75%                7.000000  \n",
       "max               17.000000  "
      ]
     },
     "execution_count": 7,
     "metadata": {},
     "output_type": "execute_result"
    }
   ],
   "source": [
    "df.describe()"
   ]
  },
  {
   "cell_type": "code",
   "execution_count": 8,
   "metadata": {},
   "outputs": [
    {
     "name": "stdout",
     "output_type": "stream",
     "text": [
      "<class 'pandas.core.frame.DataFrame'>\n",
      "Int64Index: 4410 entries, 0 to 4409\n",
      "Data columns (total 24 columns):\n",
      "Age                        4410 non-null int64\n",
      "Attrition                  4410 non-null object\n",
      "BusinessTravel             4410 non-null object\n",
      "Department                 4410 non-null object\n",
      "DistanceFromHome           4410 non-null int64\n",
      "Education                  4410 non-null int64\n",
      "EducationField             4410 non-null object\n",
      "EmployeeCount              4410 non-null int64\n",
      "EmployeeID                 4410 non-null int64\n",
      "Gender                     4410 non-null object\n",
      "JobLevel                   4410 non-null int64\n",
      "JobRole                    4410 non-null object\n",
      "MaritalStatus              4410 non-null object\n",
      "MonthlyIncome              4410 non-null int64\n",
      "NumCompaniesWorked         4391 non-null float64\n",
      "Over18                     4410 non-null object\n",
      "PercentSalaryHike          4410 non-null int64\n",
      "StandardHours              4410 non-null int64\n",
      "StockOptionLevel           4410 non-null int64\n",
      "TotalWorkingYears          4401 non-null float64\n",
      "TrainingTimesLastYear      4410 non-null int64\n",
      "YearsAtCompany             4410 non-null int64\n",
      "YearsSinceLastPromotion    4410 non-null int64\n",
      "YearsWithCurrManager       4410 non-null int64\n",
      "dtypes: float64(2), int64(14), object(8)\n",
      "memory usage: 861.3+ KB\n"
     ]
    }
   ],
   "source": [
    "df.info()"
   ]
  },
  {
   "cell_type": "code",
   "execution_count": 9,
   "metadata": {},
   "outputs": [],
   "source": [
    "df.dropna(inplace=True)"
   ]
  },
  {
   "cell_type": "code",
   "execution_count": 10,
   "metadata": {},
   "outputs": [
    {
     "data": {
      "text/html": [
       "<div>\n",
       "<style scoped>\n",
       "    .dataframe tbody tr th:only-of-type {\n",
       "        vertical-align: middle;\n",
       "    }\n",
       "\n",
       "    .dataframe tbody tr th {\n",
       "        vertical-align: top;\n",
       "    }\n",
       "\n",
       "    .dataframe thead th {\n",
       "        text-align: right;\n",
       "    }\n",
       "</style>\n",
       "<table border=\"1\" class=\"dataframe\">\n",
       "  <thead>\n",
       "    <tr style=\"text-align: right;\">\n",
       "      <th></th>\n",
       "      <th>Age</th>\n",
       "      <th>Attrition</th>\n",
       "      <th>BusinessTravel</th>\n",
       "      <th>Department</th>\n",
       "      <th>DistanceFromHome</th>\n",
       "      <th>Education</th>\n",
       "      <th>EducationField</th>\n",
       "      <th>EmployeeCount</th>\n",
       "      <th>EmployeeID</th>\n",
       "      <th>Gender</th>\n",
       "      <th>...</th>\n",
       "      <th>NumCompaniesWorked</th>\n",
       "      <th>Over18</th>\n",
       "      <th>PercentSalaryHike</th>\n",
       "      <th>StandardHours</th>\n",
       "      <th>StockOptionLevel</th>\n",
       "      <th>TotalWorkingYears</th>\n",
       "      <th>TrainingTimesLastYear</th>\n",
       "      <th>YearsAtCompany</th>\n",
       "      <th>YearsSinceLastPromotion</th>\n",
       "      <th>YearsWithCurrManager</th>\n",
       "    </tr>\n",
       "  </thead>\n",
       "  <tbody>\n",
       "    <tr>\n",
       "      <th>0</th>\n",
       "      <td>51</td>\n",
       "      <td>No</td>\n",
       "      <td>Travel_Rarely</td>\n",
       "      <td>Sales</td>\n",
       "      <td>6</td>\n",
       "      <td>2</td>\n",
       "      <td>Life Sciences</td>\n",
       "      <td>1</td>\n",
       "      <td>1</td>\n",
       "      <td>Female</td>\n",
       "      <td>...</td>\n",
       "      <td>1.0</td>\n",
       "      <td>Y</td>\n",
       "      <td>11</td>\n",
       "      <td>8</td>\n",
       "      <td>0</td>\n",
       "      <td>1.0</td>\n",
       "      <td>6</td>\n",
       "      <td>1</td>\n",
       "      <td>0</td>\n",
       "      <td>0</td>\n",
       "    </tr>\n",
       "    <tr>\n",
       "      <th>1</th>\n",
       "      <td>31</td>\n",
       "      <td>Yes</td>\n",
       "      <td>Travel_Frequently</td>\n",
       "      <td>Research &amp; Development</td>\n",
       "      <td>10</td>\n",
       "      <td>1</td>\n",
       "      <td>Life Sciences</td>\n",
       "      <td>1</td>\n",
       "      <td>2</td>\n",
       "      <td>Female</td>\n",
       "      <td>...</td>\n",
       "      <td>0.0</td>\n",
       "      <td>Y</td>\n",
       "      <td>23</td>\n",
       "      <td>8</td>\n",
       "      <td>1</td>\n",
       "      <td>6.0</td>\n",
       "      <td>3</td>\n",
       "      <td>5</td>\n",
       "      <td>1</td>\n",
       "      <td>4</td>\n",
       "    </tr>\n",
       "  </tbody>\n",
       "</table>\n",
       "<p>2 rows × 24 columns</p>\n",
       "</div>"
      ],
      "text/plain": [
       "   Age Attrition     BusinessTravel              Department  DistanceFromHome  \\\n",
       "0   51        No      Travel_Rarely                   Sales                 6   \n",
       "1   31       Yes  Travel_Frequently  Research & Development                10   \n",
       "\n",
       "   Education EducationField  EmployeeCount  EmployeeID  Gender  ...  \\\n",
       "0          2  Life Sciences              1           1  Female  ...   \n",
       "1          1  Life Sciences              1           2  Female  ...   \n",
       "\n",
       "   NumCompaniesWorked Over18 PercentSalaryHike  StandardHours  \\\n",
       "0                 1.0      Y                11              8   \n",
       "1                 0.0      Y                23              8   \n",
       "\n",
       "   StockOptionLevel TotalWorkingYears  TrainingTimesLastYear  YearsAtCompany  \\\n",
       "0                 0               1.0                      6               1   \n",
       "1                 1               6.0                      3               5   \n",
       "\n",
       "   YearsSinceLastPromotion  YearsWithCurrManager  \n",
       "0                        0                     0  \n",
       "1                        1                     4  \n",
       "\n",
       "[2 rows x 24 columns]"
      ]
     },
     "execution_count": 10,
     "metadata": {},
     "output_type": "execute_result"
    }
   ],
   "source": [
    "df.head(2)"
   ]
  },
  {
   "cell_type": "code",
   "execution_count": 11,
   "metadata": {},
   "outputs": [
    {
     "name": "stdout",
     "output_type": "stream",
     "text": [
      "<class 'pandas.core.frame.DataFrame'>\n",
      "Int64Index: 4382 entries, 0 to 4408\n",
      "Data columns (total 24 columns):\n",
      "Age                        4382 non-null int64\n",
      "Attrition                  4382 non-null object\n",
      "BusinessTravel             4382 non-null object\n",
      "Department                 4382 non-null object\n",
      "DistanceFromHome           4382 non-null int64\n",
      "Education                  4382 non-null int64\n",
      "EducationField             4382 non-null object\n",
      "EmployeeCount              4382 non-null int64\n",
      "EmployeeID                 4382 non-null int64\n",
      "Gender                     4382 non-null object\n",
      "JobLevel                   4382 non-null int64\n",
      "JobRole                    4382 non-null object\n",
      "MaritalStatus              4382 non-null object\n",
      "MonthlyIncome              4382 non-null int64\n",
      "NumCompaniesWorked         4382 non-null float64\n",
      "Over18                     4382 non-null object\n",
      "PercentSalaryHike          4382 non-null int64\n",
      "StandardHours              4382 non-null int64\n",
      "StockOptionLevel           4382 non-null int64\n",
      "TotalWorkingYears          4382 non-null float64\n",
      "TrainingTimesLastYear      4382 non-null int64\n",
      "YearsAtCompany             4382 non-null int64\n",
      "YearsSinceLastPromotion    4382 non-null int64\n",
      "YearsWithCurrManager       4382 non-null int64\n",
      "dtypes: float64(2), int64(14), object(8)\n",
      "memory usage: 855.9+ KB\n"
     ]
    }
   ],
   "source": [
    "df.info()"
   ]
  },
  {
   "cell_type": "code",
   "execution_count": 12,
   "metadata": {},
   "outputs": [],
   "source": [
    "from sklearn.preprocessing import LabelEncoder"
   ]
  },
  {
   "cell_type": "code",
   "execution_count": 13,
   "metadata": {},
   "outputs": [],
   "source": [
    "le=LabelEncoder()"
   ]
  },
  {
   "cell_type": "code",
   "execution_count": 14,
   "metadata": {},
   "outputs": [
    {
     "data": {
      "text/plain": [
       "LabelEncoder()"
      ]
     },
     "execution_count": 14,
     "metadata": {},
     "output_type": "execute_result"
    }
   ],
   "source": [
    "le.fit(df.Attrition)"
   ]
  },
  {
   "cell_type": "code",
   "execution_count": 15,
   "metadata": {},
   "outputs": [],
   "source": [
    "df['Attrition']=le.transform(df.Attrition)"
   ]
  },
  {
   "cell_type": "code",
   "execution_count": 16,
   "metadata": {},
   "outputs": [
    {
     "data": {
      "text/html": [
       "<div>\n",
       "<style scoped>\n",
       "    .dataframe tbody tr th:only-of-type {\n",
       "        vertical-align: middle;\n",
       "    }\n",
       "\n",
       "    .dataframe tbody tr th {\n",
       "        vertical-align: top;\n",
       "    }\n",
       "\n",
       "    .dataframe thead th {\n",
       "        text-align: right;\n",
       "    }\n",
       "</style>\n",
       "<table border=\"1\" class=\"dataframe\">\n",
       "  <thead>\n",
       "    <tr style=\"text-align: right;\">\n",
       "      <th></th>\n",
       "      <th>Age</th>\n",
       "      <th>Attrition</th>\n",
       "      <th>BusinessTravel</th>\n",
       "      <th>Department</th>\n",
       "      <th>DistanceFromHome</th>\n",
       "      <th>Education</th>\n",
       "      <th>EducationField</th>\n",
       "      <th>EmployeeCount</th>\n",
       "      <th>EmployeeID</th>\n",
       "      <th>Gender</th>\n",
       "      <th>...</th>\n",
       "      <th>NumCompaniesWorked</th>\n",
       "      <th>Over18</th>\n",
       "      <th>PercentSalaryHike</th>\n",
       "      <th>StandardHours</th>\n",
       "      <th>StockOptionLevel</th>\n",
       "      <th>TotalWorkingYears</th>\n",
       "      <th>TrainingTimesLastYear</th>\n",
       "      <th>YearsAtCompany</th>\n",
       "      <th>YearsSinceLastPromotion</th>\n",
       "      <th>YearsWithCurrManager</th>\n",
       "    </tr>\n",
       "  </thead>\n",
       "  <tbody>\n",
       "    <tr>\n",
       "      <th>0</th>\n",
       "      <td>51</td>\n",
       "      <td>0</td>\n",
       "      <td>Travel_Rarely</td>\n",
       "      <td>Sales</td>\n",
       "      <td>6</td>\n",
       "      <td>2</td>\n",
       "      <td>Life Sciences</td>\n",
       "      <td>1</td>\n",
       "      <td>1</td>\n",
       "      <td>Female</td>\n",
       "      <td>...</td>\n",
       "      <td>1.0</td>\n",
       "      <td>Y</td>\n",
       "      <td>11</td>\n",
       "      <td>8</td>\n",
       "      <td>0</td>\n",
       "      <td>1.0</td>\n",
       "      <td>6</td>\n",
       "      <td>1</td>\n",
       "      <td>0</td>\n",
       "      <td>0</td>\n",
       "    </tr>\n",
       "    <tr>\n",
       "      <th>1</th>\n",
       "      <td>31</td>\n",
       "      <td>1</td>\n",
       "      <td>Travel_Frequently</td>\n",
       "      <td>Research &amp; Development</td>\n",
       "      <td>10</td>\n",
       "      <td>1</td>\n",
       "      <td>Life Sciences</td>\n",
       "      <td>1</td>\n",
       "      <td>2</td>\n",
       "      <td>Female</td>\n",
       "      <td>...</td>\n",
       "      <td>0.0</td>\n",
       "      <td>Y</td>\n",
       "      <td>23</td>\n",
       "      <td>8</td>\n",
       "      <td>1</td>\n",
       "      <td>6.0</td>\n",
       "      <td>3</td>\n",
       "      <td>5</td>\n",
       "      <td>1</td>\n",
       "      <td>4</td>\n",
       "    </tr>\n",
       "  </tbody>\n",
       "</table>\n",
       "<p>2 rows × 24 columns</p>\n",
       "</div>"
      ],
      "text/plain": [
       "   Age  Attrition     BusinessTravel              Department  \\\n",
       "0   51          0      Travel_Rarely                   Sales   \n",
       "1   31          1  Travel_Frequently  Research & Development   \n",
       "\n",
       "   DistanceFromHome  Education EducationField  EmployeeCount  EmployeeID  \\\n",
       "0                 6          2  Life Sciences              1           1   \n",
       "1                10          1  Life Sciences              1           2   \n",
       "\n",
       "   Gender  ...  NumCompaniesWorked Over18 PercentSalaryHike  StandardHours  \\\n",
       "0  Female  ...                 1.0      Y                11              8   \n",
       "1  Female  ...                 0.0      Y                23              8   \n",
       "\n",
       "   StockOptionLevel TotalWorkingYears  TrainingTimesLastYear  YearsAtCompany  \\\n",
       "0                 0               1.0                      6               1   \n",
       "1                 1               6.0                      3               5   \n",
       "\n",
       "   YearsSinceLastPromotion  YearsWithCurrManager  \n",
       "0                        0                     0  \n",
       "1                        1                     4  \n",
       "\n",
       "[2 rows x 24 columns]"
      ]
     },
     "execution_count": 16,
     "metadata": {},
     "output_type": "execute_result"
    }
   ],
   "source": [
    "df.head(2)"
   ]
  },
  {
   "cell_type": "code",
   "execution_count": 17,
   "metadata": {},
   "outputs": [],
   "source": [
    "df['BusinessTravel']=le.fit_transform(df.BusinessTravel)\n",
    "\n",
    "df['DistanceFromHome']=le.fit_transform(df.DistanceFromHome)"
   ]
  },
  {
   "cell_type": "code",
   "execution_count": 18,
   "metadata": {},
   "outputs": [],
   "source": [
    "df['Gender']=le.fit_transform(df.Gender)"
   ]
  },
  {
   "cell_type": "code",
   "execution_count": 19,
   "metadata": {},
   "outputs": [],
   "source": [
    "from scipy.stats import pearsonr"
   ]
  },
  {
   "cell_type": "code",
   "execution_count": 20,
   "metadata": {},
   "outputs": [
    {
     "name": "stdout",
     "output_type": "stream",
     "text": [
      "Correlation of Age and Attrition is- -0.15839867954096706\n"
     ]
    }
   ],
   "source": [
    "stats,p=pearsonr(df.Age,df.Attrition)\n",
    "print(\"Correlation of Age and Attrition is-\",stats)\n"
   ]
  },
  {
   "cell_type": "code",
   "execution_count": 21,
   "metadata": {},
   "outputs": [
    {
     "name": "stdout",
     "output_type": "stream",
     "text": [
      "Correlation of Business Travel and Attrition is- 0.0008247972174228522\n"
     ]
    }
   ],
   "source": [
    "stats,p=pearsonr(df.BusinessTravel,df.Attrition)\n",
    "print(\"Correlation of Business Travel and Attrition is-\",stats)"
   ]
  },
  {
   "cell_type": "code",
   "execution_count": 22,
   "metadata": {},
   "outputs": [
    {
     "name": "stdout",
     "output_type": "stream",
     "text": [
      "Correlation of Distance from Home and Attrition is- -0.00944863851515625\n"
     ]
    }
   ],
   "source": [
    "stats,p=pearsonr(df.DistanceFromHome,df.Attrition)\n",
    "print(\"Correlation of Distance from Home and Attrition is-\",stats)"
   ]
  },
  {
   "cell_type": "code",
   "execution_count": 23,
   "metadata": {},
   "outputs": [
    {
     "name": "stdout",
     "output_type": "stream",
     "text": [
      "Correlation of Gender and Attrition is- 0.01839642519444097\n"
     ]
    }
   ],
   "source": [
    "stats,p=pearsonr(df.Gender,df.Attrition)\n",
    "print(\"Correlation of Gender and Attrition is-\",stats)"
   ]
  },
  {
   "cell_type": "code",
   "execution_count": 24,
   "metadata": {},
   "outputs": [
    {
     "name": "stdout",
     "output_type": "stream",
     "text": [
      "Correlation of Education and Attrition is- -0.01710630705027875\n"
     ]
    }
   ],
   "source": [
    "stats,p=pearsonr(df.Education,df.Attrition)\n",
    "print(\"Correlation of Education and Attrition is-\",stats)"
   ]
  },
  {
   "cell_type": "code",
   "execution_count": 25,
   "metadata": {},
   "outputs": [
    {
     "name": "stdout",
     "output_type": "stream",
     "text": [
      "Correlation of Salary Hike and Attrition is- 0.03315303713546665\n"
     ]
    }
   ],
   "source": [
    "stats,p=pearsonr(df.PercentSalaryHike,df.Attrition)\n",
    "print(\"Correlation of Salary Hike and Attrition is-\",stats)"
   ]
  },
  {
   "cell_type": "code",
   "execution_count": 26,
   "metadata": {},
   "outputs": [
    {
     "name": "stdout",
     "output_type": "stream",
     "text": [
      "Correlation of Years at Company and Attrition is- -0.13300261842521538\n"
     ]
    }
   ],
   "source": [
    "stats,p=pearsonr(df.YearsAtCompany,df.Attrition)\n",
    "print(\"Correlation of Years at Company and Attrition is-\",stats)"
   ]
  },
  {
   "cell_type": "markdown",
   "metadata": {},
   "source": [
    "## Correlation Matrix"
   ]
  },
  {
   "cell_type": "code",
   "execution_count": 27,
   "metadata": {},
   "outputs": [
    {
     "data": {
      "text/html": [
       "<div>\n",
       "<style scoped>\n",
       "    .dataframe tbody tr th:only-of-type {\n",
       "        vertical-align: middle;\n",
       "    }\n",
       "\n",
       "    .dataframe tbody tr th {\n",
       "        vertical-align: top;\n",
       "    }\n",
       "\n",
       "    .dataframe thead th {\n",
       "        text-align: right;\n",
       "    }\n",
       "</style>\n",
       "<table border=\"1\" class=\"dataframe\">\n",
       "  <thead>\n",
       "    <tr style=\"text-align: right;\">\n",
       "      <th></th>\n",
       "      <th>Age</th>\n",
       "      <th>Attrition</th>\n",
       "      <th>BusinessTravel</th>\n",
       "      <th>DistanceFromHome</th>\n",
       "      <th>Education</th>\n",
       "      <th>EmployeeCount</th>\n",
       "      <th>EmployeeID</th>\n",
       "      <th>Gender</th>\n",
       "      <th>JobLevel</th>\n",
       "      <th>MonthlyIncome</th>\n",
       "      <th>NumCompaniesWorked</th>\n",
       "      <th>PercentSalaryHike</th>\n",
       "      <th>StandardHours</th>\n",
       "      <th>StockOptionLevel</th>\n",
       "      <th>TotalWorkingYears</th>\n",
       "      <th>TrainingTimesLastYear</th>\n",
       "      <th>YearsAtCompany</th>\n",
       "      <th>YearsSinceLastPromotion</th>\n",
       "      <th>YearsWithCurrManager</th>\n",
       "    </tr>\n",
       "  </thead>\n",
       "  <tbody>\n",
       "    <tr>\n",
       "      <th>Age</th>\n",
       "      <td>1.000000</td>\n",
       "      <td>-0.158399</td>\n",
       "      <td>0.025044</td>\n",
       "      <td>0.007376</td>\n",
       "      <td>-0.033900</td>\n",
       "      <td>NaN</td>\n",
       "      <td>0.008105</td>\n",
       "      <td>-0.040625</td>\n",
       "      <td>-0.001137</td>\n",
       "      <td>-0.045163</td>\n",
       "      <td>0.299527</td>\n",
       "      <td>-0.032561</td>\n",
       "      <td>NaN</td>\n",
       "      <td>-0.031504</td>\n",
       "      <td>0.680037</td>\n",
       "      <td>-0.028962</td>\n",
       "      <td>0.311281</td>\n",
       "      <td>0.215650</td>\n",
       "      <td>0.201580</td>\n",
       "    </tr>\n",
       "    <tr>\n",
       "      <th>Attrition</th>\n",
       "      <td>-0.158399</td>\n",
       "      <td>1.000000</td>\n",
       "      <td>0.000825</td>\n",
       "      <td>-0.009449</td>\n",
       "      <td>-0.017106</td>\n",
       "      <td>NaN</td>\n",
       "      <td>-0.004621</td>\n",
       "      <td>0.018396</td>\n",
       "      <td>-0.012382</td>\n",
       "      <td>-0.030160</td>\n",
       "      <td>0.042831</td>\n",
       "      <td>0.033153</td>\n",
       "      <td>NaN</td>\n",
       "      <td>-0.008164</td>\n",
       "      <td>-0.169670</td>\n",
       "      <td>-0.047586</td>\n",
       "      <td>-0.133003</td>\n",
       "      <td>-0.031423</td>\n",
       "      <td>-0.154692</td>\n",
       "    </tr>\n",
       "    <tr>\n",
       "      <th>BusinessTravel</th>\n",
       "      <td>0.025044</td>\n",
       "      <td>0.000825</td>\n",
       "      <td>1.000000</td>\n",
       "      <td>0.025066</td>\n",
       "      <td>0.003074</td>\n",
       "      <td>NaN</td>\n",
       "      <td>-0.003193</td>\n",
       "      <td>-0.038942</td>\n",
       "      <td>0.045873</td>\n",
       "      <td>-0.037516</td>\n",
       "      <td>0.024046</td>\n",
       "      <td>-0.030847</td>\n",
       "      <td>NaN</td>\n",
       "      <td>0.005444</td>\n",
       "      <td>0.033895</td>\n",
       "      <td>-0.041538</td>\n",
       "      <td>-0.015829</td>\n",
       "      <td>-0.033186</td>\n",
       "      <td>-0.023134</td>\n",
       "    </tr>\n",
       "    <tr>\n",
       "      <th>DistanceFromHome</th>\n",
       "      <td>0.007376</td>\n",
       "      <td>-0.009449</td>\n",
       "      <td>0.025066</td>\n",
       "      <td>1.000000</td>\n",
       "      <td>-0.007491</td>\n",
       "      <td>NaN</td>\n",
       "      <td>-0.000326</td>\n",
       "      <td>-0.042610</td>\n",
       "      <td>-0.039990</td>\n",
       "      <td>-0.022757</td>\n",
       "      <td>-0.014449</td>\n",
       "      <td>0.037720</td>\n",
       "      <td>NaN</td>\n",
       "      <td>0.009353</td>\n",
       "      <td>0.009574</td>\n",
       "      <td>-0.008957</td>\n",
       "      <td>0.030746</td>\n",
       "      <td>0.002243</td>\n",
       "      <td>0.021773</td>\n",
       "    </tr>\n",
       "    <tr>\n",
       "      <th>Education</th>\n",
       "      <td>-0.033900</td>\n",
       "      <td>-0.017106</td>\n",
       "      <td>0.003074</td>\n",
       "      <td>-0.007491</td>\n",
       "      <td>1.000000</td>\n",
       "      <td>NaN</td>\n",
       "      <td>-0.009389</td>\n",
       "      <td>-0.017671</td>\n",
       "      <td>0.045822</td>\n",
       "      <td>0.007289</td>\n",
       "      <td>-0.016210</td>\n",
       "      <td>-0.041054</td>\n",
       "      <td>NaN</td>\n",
       "      <td>0.002386</td>\n",
       "      <td>-0.009228</td>\n",
       "      <td>0.009939</td>\n",
       "      <td>0.005997</td>\n",
       "      <td>0.023457</td>\n",
       "      <td>0.005645</td>\n",
       "    </tr>\n",
       "    <tr>\n",
       "      <th>EmployeeCount</th>\n",
       "      <td>NaN</td>\n",
       "      <td>NaN</td>\n",
       "      <td>NaN</td>\n",
       "      <td>NaN</td>\n",
       "      <td>NaN</td>\n",
       "      <td>NaN</td>\n",
       "      <td>NaN</td>\n",
       "      <td>NaN</td>\n",
       "      <td>NaN</td>\n",
       "      <td>NaN</td>\n",
       "      <td>NaN</td>\n",
       "      <td>NaN</td>\n",
       "      <td>NaN</td>\n",
       "      <td>NaN</td>\n",
       "      <td>NaN</td>\n",
       "      <td>NaN</td>\n",
       "      <td>NaN</td>\n",
       "      <td>NaN</td>\n",
       "      <td>NaN</td>\n",
       "    </tr>\n",
       "    <tr>\n",
       "      <th>EmployeeID</th>\n",
       "      <td>0.008105</td>\n",
       "      <td>-0.004621</td>\n",
       "      <td>-0.003193</td>\n",
       "      <td>-0.000326</td>\n",
       "      <td>-0.009389</td>\n",
       "      <td>NaN</td>\n",
       "      <td>1.000000</td>\n",
       "      <td>-0.012812</td>\n",
       "      <td>-0.003090</td>\n",
       "      <td>0.007865</td>\n",
       "      <td>0.000719</td>\n",
       "      <td>-0.004877</td>\n",
       "      <td>NaN</td>\n",
       "      <td>-0.013488</td>\n",
       "      <td>-0.001688</td>\n",
       "      <td>-0.012102</td>\n",
       "      <td>0.004117</td>\n",
       "      <td>0.000814</td>\n",
       "      <td>0.009079</td>\n",
       "    </tr>\n",
       "    <tr>\n",
       "      <th>Gender</th>\n",
       "      <td>-0.040625</td>\n",
       "      <td>0.018396</td>\n",
       "      <td>-0.038942</td>\n",
       "      <td>-0.042610</td>\n",
       "      <td>-0.017671</td>\n",
       "      <td>NaN</td>\n",
       "      <td>-0.012812</td>\n",
       "      <td>1.000000</td>\n",
       "      <td>-0.026019</td>\n",
       "      <td>0.006805</td>\n",
       "      <td>-0.066860</td>\n",
       "      <td>0.013207</td>\n",
       "      <td>NaN</td>\n",
       "      <td>0.022043</td>\n",
       "      <td>-0.028251</td>\n",
       "      <td>-0.032597</td>\n",
       "      <td>-0.018659</td>\n",
       "      <td>-0.023018</td>\n",
       "      <td>0.002688</td>\n",
       "    </tr>\n",
       "    <tr>\n",
       "      <th>JobLevel</th>\n",
       "      <td>-0.001137</td>\n",
       "      <td>-0.012382</td>\n",
       "      <td>0.045873</td>\n",
       "      <td>-0.039990</td>\n",
       "      <td>0.045822</td>\n",
       "      <td>NaN</td>\n",
       "      <td>-0.003090</td>\n",
       "      <td>-0.026019</td>\n",
       "      <td>1.000000</td>\n",
       "      <td>0.046688</td>\n",
       "      <td>-0.009759</td>\n",
       "      <td>0.010874</td>\n",
       "      <td>NaN</td>\n",
       "      <td>0.000365</td>\n",
       "      <td>-0.036293</td>\n",
       "      <td>-0.031931</td>\n",
       "      <td>-0.063360</td>\n",
       "      <td>-0.059680</td>\n",
       "      <td>-0.053898</td>\n",
       "    </tr>\n",
       "    <tr>\n",
       "      <th>MonthlyIncome</th>\n",
       "      <td>-0.045163</td>\n",
       "      <td>-0.030160</td>\n",
       "      <td>-0.037516</td>\n",
       "      <td>-0.022757</td>\n",
       "      <td>0.007289</td>\n",
       "      <td>NaN</td>\n",
       "      <td>0.007865</td>\n",
       "      <td>0.006805</td>\n",
       "      <td>0.046688</td>\n",
       "      <td>1.000000</td>\n",
       "      <td>-0.021446</td>\n",
       "      <td>0.004607</td>\n",
       "      <td>NaN</td>\n",
       "      <td>0.027242</td>\n",
       "      <td>-0.034398</td>\n",
       "      <td>0.049780</td>\n",
       "      <td>0.000088</td>\n",
       "      <td>0.064470</td>\n",
       "      <td>0.023095</td>\n",
       "    </tr>\n",
       "    <tr>\n",
       "      <th>NumCompaniesWorked</th>\n",
       "      <td>0.299527</td>\n",
       "      <td>0.042831</td>\n",
       "      <td>0.024046</td>\n",
       "      <td>-0.014449</td>\n",
       "      <td>-0.016210</td>\n",
       "      <td>NaN</td>\n",
       "      <td>0.000719</td>\n",
       "      <td>-0.066860</td>\n",
       "      <td>-0.009759</td>\n",
       "      <td>-0.021446</td>\n",
       "      <td>1.000000</td>\n",
       "      <td>0.030064</td>\n",
       "      <td>NaN</td>\n",
       "      <td>0.016291</td>\n",
       "      <td>0.238807</td>\n",
       "      <td>-0.031335</td>\n",
       "      <td>-0.117213</td>\n",
       "      <td>-0.035855</td>\n",
       "      <td>-0.109372</td>\n",
       "    </tr>\n",
       "    <tr>\n",
       "      <th>PercentSalaryHike</th>\n",
       "      <td>-0.032561</td>\n",
       "      <td>0.033153</td>\n",
       "      <td>-0.030847</td>\n",
       "      <td>0.037720</td>\n",
       "      <td>-0.041054</td>\n",
       "      <td>NaN</td>\n",
       "      <td>-0.004877</td>\n",
       "      <td>0.013207</td>\n",
       "      <td>0.010874</td>\n",
       "      <td>0.004607</td>\n",
       "      <td>0.030064</td>\n",
       "      <td>1.000000</td>\n",
       "      <td>NaN</td>\n",
       "      <td>0.012104</td>\n",
       "      <td>-0.018480</td>\n",
       "      <td>-0.036720</td>\n",
       "      <td>-0.029022</td>\n",
       "      <td>-0.028654</td>\n",
       "      <td>-0.039687</td>\n",
       "    </tr>\n",
       "    <tr>\n",
       "      <th>StandardHours</th>\n",
       "      <td>NaN</td>\n",
       "      <td>NaN</td>\n",
       "      <td>NaN</td>\n",
       "      <td>NaN</td>\n",
       "      <td>NaN</td>\n",
       "      <td>NaN</td>\n",
       "      <td>NaN</td>\n",
       "      <td>NaN</td>\n",
       "      <td>NaN</td>\n",
       "      <td>NaN</td>\n",
       "      <td>NaN</td>\n",
       "      <td>NaN</td>\n",
       "      <td>NaN</td>\n",
       "      <td>NaN</td>\n",
       "      <td>NaN</td>\n",
       "      <td>NaN</td>\n",
       "      <td>NaN</td>\n",
       "      <td>NaN</td>\n",
       "      <td>NaN</td>\n",
       "    </tr>\n",
       "    <tr>\n",
       "      <th>StockOptionLevel</th>\n",
       "      <td>-0.031504</td>\n",
       "      <td>-0.008164</td>\n",
       "      <td>0.005444</td>\n",
       "      <td>0.009353</td>\n",
       "      <td>0.002386</td>\n",
       "      <td>NaN</td>\n",
       "      <td>-0.013488</td>\n",
       "      <td>0.022043</td>\n",
       "      <td>0.000365</td>\n",
       "      <td>0.027242</td>\n",
       "      <td>0.016291</td>\n",
       "      <td>0.012104</td>\n",
       "      <td>NaN</td>\n",
       "      <td>1.000000</td>\n",
       "      <td>0.003138</td>\n",
       "      <td>-0.068028</td>\n",
       "      <td>0.009369</td>\n",
       "      <td>0.019889</td>\n",
       "      <td>0.019398</td>\n",
       "    </tr>\n",
       "    <tr>\n",
       "      <th>TotalWorkingYears</th>\n",
       "      <td>0.680037</td>\n",
       "      <td>-0.169670</td>\n",
       "      <td>0.033895</td>\n",
       "      <td>0.009574</td>\n",
       "      <td>-0.009228</td>\n",
       "      <td>NaN</td>\n",
       "      <td>-0.001688</td>\n",
       "      <td>-0.028251</td>\n",
       "      <td>-0.036293</td>\n",
       "      <td>-0.034398</td>\n",
       "      <td>0.238807</td>\n",
       "      <td>-0.018480</td>\n",
       "      <td>NaN</td>\n",
       "      <td>0.003138</td>\n",
       "      <td>1.000000</td>\n",
       "      <td>-0.041459</td>\n",
       "      <td>0.627738</td>\n",
       "      <td>0.404058</td>\n",
       "      <td>0.458640</td>\n",
       "    </tr>\n",
       "    <tr>\n",
       "      <th>TrainingTimesLastYear</th>\n",
       "      <td>-0.028962</td>\n",
       "      <td>-0.047586</td>\n",
       "      <td>-0.041538</td>\n",
       "      <td>-0.008957</td>\n",
       "      <td>0.009939</td>\n",
       "      <td>NaN</td>\n",
       "      <td>-0.012102</td>\n",
       "      <td>-0.032597</td>\n",
       "      <td>-0.031931</td>\n",
       "      <td>0.049780</td>\n",
       "      <td>-0.031335</td>\n",
       "      <td>-0.036720</td>\n",
       "      <td>NaN</td>\n",
       "      <td>-0.068028</td>\n",
       "      <td>-0.041459</td>\n",
       "      <td>1.000000</td>\n",
       "      <td>-0.010447</td>\n",
       "      <td>0.015340</td>\n",
       "      <td>-0.015792</td>\n",
       "    </tr>\n",
       "    <tr>\n",
       "      <th>YearsAtCompany</th>\n",
       "      <td>0.311281</td>\n",
       "      <td>-0.133003</td>\n",
       "      <td>-0.015829</td>\n",
       "      <td>0.030746</td>\n",
       "      <td>0.005997</td>\n",
       "      <td>NaN</td>\n",
       "      <td>0.004117</td>\n",
       "      <td>-0.018659</td>\n",
       "      <td>-0.063360</td>\n",
       "      <td>0.000088</td>\n",
       "      <td>-0.117213</td>\n",
       "      <td>-0.029022</td>\n",
       "      <td>NaN</td>\n",
       "      <td>0.009369</td>\n",
       "      <td>0.627738</td>\n",
       "      <td>-0.010447</td>\n",
       "      <td>1.000000</td>\n",
       "      <td>0.618722</td>\n",
       "      <td>0.769161</td>\n",
       "    </tr>\n",
       "    <tr>\n",
       "      <th>YearsSinceLastPromotion</th>\n",
       "      <td>0.215650</td>\n",
       "      <td>-0.031423</td>\n",
       "      <td>-0.033186</td>\n",
       "      <td>0.002243</td>\n",
       "      <td>0.023457</td>\n",
       "      <td>NaN</td>\n",
       "      <td>0.000814</td>\n",
       "      <td>-0.023018</td>\n",
       "      <td>-0.059680</td>\n",
       "      <td>0.064470</td>\n",
       "      <td>-0.035855</td>\n",
       "      <td>-0.028654</td>\n",
       "      <td>NaN</td>\n",
       "      <td>0.019889</td>\n",
       "      <td>0.404058</td>\n",
       "      <td>0.015340</td>\n",
       "      <td>0.618722</td>\n",
       "      <td>1.000000</td>\n",
       "      <td>0.510341</td>\n",
       "    </tr>\n",
       "    <tr>\n",
       "      <th>YearsWithCurrManager</th>\n",
       "      <td>0.201580</td>\n",
       "      <td>-0.154692</td>\n",
       "      <td>-0.023134</td>\n",
       "      <td>0.021773</td>\n",
       "      <td>0.005645</td>\n",
       "      <td>NaN</td>\n",
       "      <td>0.009079</td>\n",
       "      <td>0.002688</td>\n",
       "      <td>-0.053898</td>\n",
       "      <td>0.023095</td>\n",
       "      <td>-0.109372</td>\n",
       "      <td>-0.039687</td>\n",
       "      <td>NaN</td>\n",
       "      <td>0.019398</td>\n",
       "      <td>0.458640</td>\n",
       "      <td>-0.015792</td>\n",
       "      <td>0.769161</td>\n",
       "      <td>0.510341</td>\n",
       "      <td>1.000000</td>\n",
       "    </tr>\n",
       "  </tbody>\n",
       "</table>\n",
       "</div>"
      ],
      "text/plain": [
       "                              Age  Attrition  BusinessTravel  \\\n",
       "Age                      1.000000  -0.158399        0.025044   \n",
       "Attrition               -0.158399   1.000000        0.000825   \n",
       "BusinessTravel           0.025044   0.000825        1.000000   \n",
       "DistanceFromHome         0.007376  -0.009449        0.025066   \n",
       "Education               -0.033900  -0.017106        0.003074   \n",
       "EmployeeCount                 NaN        NaN             NaN   \n",
       "EmployeeID               0.008105  -0.004621       -0.003193   \n",
       "Gender                  -0.040625   0.018396       -0.038942   \n",
       "JobLevel                -0.001137  -0.012382        0.045873   \n",
       "MonthlyIncome           -0.045163  -0.030160       -0.037516   \n",
       "NumCompaniesWorked       0.299527   0.042831        0.024046   \n",
       "PercentSalaryHike       -0.032561   0.033153       -0.030847   \n",
       "StandardHours                 NaN        NaN             NaN   \n",
       "StockOptionLevel        -0.031504  -0.008164        0.005444   \n",
       "TotalWorkingYears        0.680037  -0.169670        0.033895   \n",
       "TrainingTimesLastYear   -0.028962  -0.047586       -0.041538   \n",
       "YearsAtCompany           0.311281  -0.133003       -0.015829   \n",
       "YearsSinceLastPromotion  0.215650  -0.031423       -0.033186   \n",
       "YearsWithCurrManager     0.201580  -0.154692       -0.023134   \n",
       "\n",
       "                         DistanceFromHome  Education  EmployeeCount  \\\n",
       "Age                              0.007376  -0.033900            NaN   \n",
       "Attrition                       -0.009449  -0.017106            NaN   \n",
       "BusinessTravel                   0.025066   0.003074            NaN   \n",
       "DistanceFromHome                 1.000000  -0.007491            NaN   \n",
       "Education                       -0.007491   1.000000            NaN   \n",
       "EmployeeCount                         NaN        NaN            NaN   \n",
       "EmployeeID                      -0.000326  -0.009389            NaN   \n",
       "Gender                          -0.042610  -0.017671            NaN   \n",
       "JobLevel                        -0.039990   0.045822            NaN   \n",
       "MonthlyIncome                   -0.022757   0.007289            NaN   \n",
       "NumCompaniesWorked              -0.014449  -0.016210            NaN   \n",
       "PercentSalaryHike                0.037720  -0.041054            NaN   \n",
       "StandardHours                         NaN        NaN            NaN   \n",
       "StockOptionLevel                 0.009353   0.002386            NaN   \n",
       "TotalWorkingYears                0.009574  -0.009228            NaN   \n",
       "TrainingTimesLastYear           -0.008957   0.009939            NaN   \n",
       "YearsAtCompany                   0.030746   0.005997            NaN   \n",
       "YearsSinceLastPromotion          0.002243   0.023457            NaN   \n",
       "YearsWithCurrManager             0.021773   0.005645            NaN   \n",
       "\n",
       "                         EmployeeID    Gender  JobLevel  MonthlyIncome  \\\n",
       "Age                        0.008105 -0.040625 -0.001137      -0.045163   \n",
       "Attrition                 -0.004621  0.018396 -0.012382      -0.030160   \n",
       "BusinessTravel            -0.003193 -0.038942  0.045873      -0.037516   \n",
       "DistanceFromHome          -0.000326 -0.042610 -0.039990      -0.022757   \n",
       "Education                 -0.009389 -0.017671  0.045822       0.007289   \n",
       "EmployeeCount                   NaN       NaN       NaN            NaN   \n",
       "EmployeeID                 1.000000 -0.012812 -0.003090       0.007865   \n",
       "Gender                    -0.012812  1.000000 -0.026019       0.006805   \n",
       "JobLevel                  -0.003090 -0.026019  1.000000       0.046688   \n",
       "MonthlyIncome              0.007865  0.006805  0.046688       1.000000   \n",
       "NumCompaniesWorked         0.000719 -0.066860 -0.009759      -0.021446   \n",
       "PercentSalaryHike         -0.004877  0.013207  0.010874       0.004607   \n",
       "StandardHours                   NaN       NaN       NaN            NaN   \n",
       "StockOptionLevel          -0.013488  0.022043  0.000365       0.027242   \n",
       "TotalWorkingYears         -0.001688 -0.028251 -0.036293      -0.034398   \n",
       "TrainingTimesLastYear     -0.012102 -0.032597 -0.031931       0.049780   \n",
       "YearsAtCompany             0.004117 -0.018659 -0.063360       0.000088   \n",
       "YearsSinceLastPromotion    0.000814 -0.023018 -0.059680       0.064470   \n",
       "YearsWithCurrManager       0.009079  0.002688 -0.053898       0.023095   \n",
       "\n",
       "                         NumCompaniesWorked  PercentSalaryHike  StandardHours  \\\n",
       "Age                                0.299527          -0.032561            NaN   \n",
       "Attrition                          0.042831           0.033153            NaN   \n",
       "BusinessTravel                     0.024046          -0.030847            NaN   \n",
       "DistanceFromHome                  -0.014449           0.037720            NaN   \n",
       "Education                         -0.016210          -0.041054            NaN   \n",
       "EmployeeCount                           NaN                NaN            NaN   \n",
       "EmployeeID                         0.000719          -0.004877            NaN   \n",
       "Gender                            -0.066860           0.013207            NaN   \n",
       "JobLevel                          -0.009759           0.010874            NaN   \n",
       "MonthlyIncome                     -0.021446           0.004607            NaN   \n",
       "NumCompaniesWorked                 1.000000           0.030064            NaN   \n",
       "PercentSalaryHike                  0.030064           1.000000            NaN   \n",
       "StandardHours                           NaN                NaN            NaN   \n",
       "StockOptionLevel                   0.016291           0.012104            NaN   \n",
       "TotalWorkingYears                  0.238807          -0.018480            NaN   \n",
       "TrainingTimesLastYear             -0.031335          -0.036720            NaN   \n",
       "YearsAtCompany                    -0.117213          -0.029022            NaN   \n",
       "YearsSinceLastPromotion           -0.035855          -0.028654            NaN   \n",
       "YearsWithCurrManager              -0.109372          -0.039687            NaN   \n",
       "\n",
       "                         StockOptionLevel  TotalWorkingYears  \\\n",
       "Age                             -0.031504           0.680037   \n",
       "Attrition                       -0.008164          -0.169670   \n",
       "BusinessTravel                   0.005444           0.033895   \n",
       "DistanceFromHome                 0.009353           0.009574   \n",
       "Education                        0.002386          -0.009228   \n",
       "EmployeeCount                         NaN                NaN   \n",
       "EmployeeID                      -0.013488          -0.001688   \n",
       "Gender                           0.022043          -0.028251   \n",
       "JobLevel                         0.000365          -0.036293   \n",
       "MonthlyIncome                    0.027242          -0.034398   \n",
       "NumCompaniesWorked               0.016291           0.238807   \n",
       "PercentSalaryHike                0.012104          -0.018480   \n",
       "StandardHours                         NaN                NaN   \n",
       "StockOptionLevel                 1.000000           0.003138   \n",
       "TotalWorkingYears                0.003138           1.000000   \n",
       "TrainingTimesLastYear           -0.068028          -0.041459   \n",
       "YearsAtCompany                   0.009369           0.627738   \n",
       "YearsSinceLastPromotion          0.019889           0.404058   \n",
       "YearsWithCurrManager             0.019398           0.458640   \n",
       "\n",
       "                         TrainingTimesLastYear  YearsAtCompany  \\\n",
       "Age                                  -0.028962        0.311281   \n",
       "Attrition                            -0.047586       -0.133003   \n",
       "BusinessTravel                       -0.041538       -0.015829   \n",
       "DistanceFromHome                     -0.008957        0.030746   \n",
       "Education                             0.009939        0.005997   \n",
       "EmployeeCount                              NaN             NaN   \n",
       "EmployeeID                           -0.012102        0.004117   \n",
       "Gender                               -0.032597       -0.018659   \n",
       "JobLevel                             -0.031931       -0.063360   \n",
       "MonthlyIncome                         0.049780        0.000088   \n",
       "NumCompaniesWorked                   -0.031335       -0.117213   \n",
       "PercentSalaryHike                    -0.036720       -0.029022   \n",
       "StandardHours                              NaN             NaN   \n",
       "StockOptionLevel                     -0.068028        0.009369   \n",
       "TotalWorkingYears                    -0.041459        0.627738   \n",
       "TrainingTimesLastYear                 1.000000       -0.010447   \n",
       "YearsAtCompany                       -0.010447        1.000000   \n",
       "YearsSinceLastPromotion               0.015340        0.618722   \n",
       "YearsWithCurrManager                 -0.015792        0.769161   \n",
       "\n",
       "                         YearsSinceLastPromotion  YearsWithCurrManager  \n",
       "Age                                     0.215650              0.201580  \n",
       "Attrition                              -0.031423             -0.154692  \n",
       "BusinessTravel                         -0.033186             -0.023134  \n",
       "DistanceFromHome                        0.002243              0.021773  \n",
       "Education                               0.023457              0.005645  \n",
       "EmployeeCount                                NaN                   NaN  \n",
       "EmployeeID                              0.000814              0.009079  \n",
       "Gender                                 -0.023018              0.002688  \n",
       "JobLevel                               -0.059680             -0.053898  \n",
       "MonthlyIncome                           0.064470              0.023095  \n",
       "NumCompaniesWorked                     -0.035855             -0.109372  \n",
       "PercentSalaryHike                      -0.028654             -0.039687  \n",
       "StandardHours                                NaN                   NaN  \n",
       "StockOptionLevel                        0.019889              0.019398  \n",
       "TotalWorkingYears                       0.404058              0.458640  \n",
       "TrainingTimesLastYear                   0.015340             -0.015792  \n",
       "YearsAtCompany                          0.618722              0.769161  \n",
       "YearsSinceLastPromotion                 1.000000              0.510341  \n",
       "YearsWithCurrManager                    0.510341              1.000000  "
      ]
     },
     "execution_count": 27,
     "metadata": {},
     "output_type": "execute_result"
    }
   ],
   "source": [
    "df.corr()"
   ]
  },
  {
   "cell_type": "code",
   "execution_count": 28,
   "metadata": {},
   "outputs": [
    {
     "data": {
      "text/plain": [
       "<matplotlib.axes._subplots.AxesSubplot at 0x2132031fd30>"
      ]
     },
     "execution_count": 28,
     "metadata": {},
     "output_type": "execute_result"
    },
    {
     "data": {
      "image/png": "[encoded data removed]",
      "text/plain": [
       "<Figure size 432x288 with 2 Axes>"
      ]
     },
     "metadata": {
      "needs_background": "light"
     },
     "output_type": "display_data"
    }
   ],
   "source": [
    "sns.heatmap(df.corr())"
   ]
  },
  {
   "cell_type": "markdown",
   "metadata": {},
   "source": [
    "## HIGHEST AND LOWEST CORRELATIONS"
   ]
  },
  {
   "cell_type": "code",
   "execution_count": 29,
   "metadata": {},
   "outputs": [
    {
     "data": {
      "text/plain": [
       "Attrition                TotalWorkingYears         -0.169670\n",
       "Age                      Attrition                 -0.158399\n",
       "Attrition                YearsWithCurrManager      -0.154692\n",
       "                         YearsAtCompany            -0.133003\n",
       "NumCompaniesWorked       YearsAtCompany            -0.117213\n",
       "YearsWithCurrManager     NumCompaniesWorked        -0.109372\n",
       "StockOptionLevel         TrainingTimesLastYear     -0.068028\n",
       "NumCompaniesWorked       Gender                    -0.066860\n",
       "JobLevel                 YearsAtCompany            -0.063360\n",
       "                         YearsSinceLastPromotion   -0.059680\n",
       "                         YearsWithCurrManager      -0.053898\n",
       "Attrition                TrainingTimesLastYear     -0.047586\n",
       "MonthlyIncome            Age                       -0.045163\n",
       "Gender                   DistanceFromHome          -0.042610\n",
       "TrainingTimesLastYear    BusinessTravel            -0.041538\n",
       "                         TotalWorkingYears         -0.041459\n",
       "Education                PercentSalaryHike         -0.041054\n",
       "Gender                   Age                       -0.040625\n",
       "DistanceFromHome         JobLevel                  -0.039990\n",
       "PercentSalaryHike        YearsWithCurrManager      -0.039687\n",
       "BusinessTravel           Gender                    -0.038942\n",
       "MonthlyIncome            BusinessTravel            -0.037516\n",
       "PercentSalaryHike        TrainingTimesLastYear     -0.036720\n",
       "TotalWorkingYears        JobLevel                  -0.036293\n",
       "YearsSinceLastPromotion  NumCompaniesWorked        -0.035855\n",
       "TotalWorkingYears        MonthlyIncome             -0.034398\n",
       "Age                      Education                 -0.033900\n",
       "YearsSinceLastPromotion  BusinessTravel            -0.033186\n",
       "Gender                   TrainingTimesLastYear     -0.032597\n",
       "Age                      PercentSalaryHike         -0.032561\n",
       "                                                      ...   \n",
       "Education                YearsSinceLastPromotion    0.023457\n",
       "NumCompaniesWorked       BusinessTravel             0.024046\n",
       "BusinessTravel           Age                        0.025044\n",
       "                         DistanceFromHome           0.025066\n",
       "MonthlyIncome            StockOptionLevel           0.027242\n",
       "NumCompaniesWorked       PercentSalaryHike          0.030064\n",
       "YearsAtCompany           DistanceFromHome           0.030746\n",
       "PercentSalaryHike        Attrition                  0.033153\n",
       "BusinessTravel           TotalWorkingYears          0.033895\n",
       "PercentSalaryHike        DistanceFromHome           0.037720\n",
       "Attrition                NumCompaniesWorked         0.042831\n",
       "JobLevel                 Education                  0.045822\n",
       "BusinessTravel           JobLevel                   0.045873\n",
       "MonthlyIncome            JobLevel                   0.046688\n",
       "                         TrainingTimesLastYear      0.049780\n",
       "YearsSinceLastPromotion  MonthlyIncome              0.064470\n",
       "YearsWithCurrManager     Age                        0.201580\n",
       "Age                      YearsSinceLastPromotion    0.215650\n",
       "TotalWorkingYears        NumCompaniesWorked         0.238807\n",
       "Age                      NumCompaniesWorked         0.299527\n",
       "                         YearsAtCompany             0.311281\n",
       "TotalWorkingYears        YearsSinceLastPromotion    0.404058\n",
       "                         YearsWithCurrManager       0.458640\n",
       "YearsWithCurrManager     YearsSinceLastPromotion    0.510341\n",
       "YearsAtCompany           YearsSinceLastPromotion    0.618722\n",
       "TotalWorkingYears        YearsAtCompany             0.627738\n",
       "                         Age                        0.680037\n",
       "YearsWithCurrManager     YearsAtCompany             0.769161\n",
       "Age                      Age                        1.000000\n",
       "                         EmployeeCount                   NaN\n",
       "Length: 138, dtype: float64"
      ]
     },
     "execution_count": 29,
     "metadata": {},
     "output_type": "execute_result"
    }
   ],
   "source": [
    "df.corr().unstack().sort_values().drop_duplicates()"
   ]
  },
  {
   "cell_type": "markdown",
   "metadata": {},
   "source": [
    "## Skewness"
   ]
  },
  {
   "cell_type": "code",
   "execution_count": 30,
   "metadata": {},
   "outputs": [
    {
     "data": {
      "text/plain": [
       "Age                        0.413048\n",
       "Attrition                  1.846529\n",
       "BusinessTravel            -1.437507\n",
       "DistanceFromHome           0.955517\n",
       "Education                 -0.288977\n",
       "EmployeeCount              0.000000\n",
       "EmployeeID                -0.002335\n",
       "Gender                    -0.405283\n",
       "JobLevel                   1.021797\n",
       "MonthlyIncome              1.367457\n",
       "NumCompaniesWorked         1.029174\n",
       "PercentSalaryHike          0.819510\n",
       "StandardHours              0.000000\n",
       "StockOptionLevel           0.967263\n",
       "TotalWorkingYears          1.115419\n",
       "TrainingTimesLastYear      0.551818\n",
       "YearsAtCompany             1.764619\n",
       "YearsSinceLastPromotion    1.980992\n",
       "YearsWithCurrManager       0.834277\n",
       "dtype: float64"
      ]
     },
     "execution_count": 30,
     "metadata": {},
     "output_type": "execute_result"
    }
   ],
   "source": [
    "df.skew()"
   ]
  },
  {
   "cell_type": "markdown",
   "metadata": {},
   "source": [
    "##  Kurtosis"
   ]
  },
  {
   "cell_type": "code",
   "execution_count": 31,
   "metadata": {},
   "outputs": [
    {
     "data": {
      "text/plain": [
       "Age                       -0.409517\n",
       "Attrition                  1.410313\n",
       "BusinessTravel             0.695632\n",
       "DistanceFromHome          -0.230691\n",
       "Education                 -0.565008\n",
       "EmployeeCount              0.000000\n",
       "EmployeeID                -1.198607\n",
       "Gender                    -1.836584\n",
       "JobLevel                   0.388189\n",
       "MonthlyIncome              0.990836\n",
       "NumCompaniesWorked         0.014307\n",
       "PercentSalaryHike         -0.306951\n",
       "StandardHours              0.000000\n",
       "StockOptionLevel           0.356755\n",
       "TotalWorkingYears          0.909316\n",
       "TrainingTimesLastYear      0.494215\n",
       "YearsAtCompany             3.930726\n",
       "YearsSinceLastPromotion    3.592162\n",
       "YearsWithCurrManager       0.170703\n",
       "dtype: float64"
      ]
     },
     "execution_count": 31,
     "metadata": {},
     "output_type": "execute_result"
    }
   ],
   "source": [
    "df.kurtosis()"
   ]
  },
  {
   "cell_type": "markdown",
   "metadata": {},
   "source": [
    "## Non Parametric Tests\n",
    "\n",
    "### Since no paired features are present we cannot do Wilcoxon Test and Freidman Test"
   ]
  },
  {
   "cell_type": "markdown",
   "metadata": {},
   "source": [
    "## Mann Whitney Test\n",
    "### H0 : There is no Significant impact of Distance From Home on Attrition\n",
    "### H1 : There is Significant impact of Distance From Home on Attrition"
   ]
  },
  {
   "cell_type": "code",
   "execution_count": 32,
   "metadata": {},
   "outputs": [],
   "source": [
    "from scipy.stats import mannwhitneyu"
   ]
  },
  {
   "cell_type": "code",
   "execution_count": 33,
   "metadata": {},
   "outputs": [],
   "source": [
    "stats,p=mannwhitneyu(df.DistanceFromHome[df.Attrition==1],df.DistanceFromHome[df.Attrition==0])"
   ]
  },
  {
   "cell_type": "code",
   "execution_count": 34,
   "metadata": {},
   "outputs": [
    {
     "name": "stdout",
     "output_type": "stream",
     "text": [
      "p-value is  0.488538986087403\n"
     ]
    }
   ],
   "source": [
    "print(\"p-value is \",p)"
   ]
  },
  {
   "cell_type": "markdown",
   "metadata": {},
   "source": [
    "## Since p-value > 0.05 we accept H0 , i.e. Distance From Home has no impact on Attrition"
   ]
  },
  {
   "cell_type": "markdown",
   "metadata": {},
   "source": [
    "### H0 : There is no Significant impact of Business Travel on Attrition\n",
    "### H1 : There is Significant impact of Business Travel on Attrition"
   ]
  },
  {
   "cell_type": "code",
   "execution_count": 35,
   "metadata": {},
   "outputs": [],
   "source": [
    "stats,p=mannwhitneyu(df.BusinessTravel[df.Attrition==0],df.BusinessTravel[df.Attrition==1])"
   ]
  },
  {
   "cell_type": "code",
   "execution_count": 36,
   "metadata": {},
   "outputs": [
    {
     "name": "stdout",
     "output_type": "stream",
     "text": [
      "p-value is  0.029614877291203285\n"
     ]
    }
   ],
   "source": [
    "print(\"p-value is \",p)"
   ]
  },
  {
   "cell_type": "markdown",
   "metadata": {},
   "source": [
    "## Since p-value < 0.05 we reject H0 and accept H1 , i.e. Business Travel has impact on Attrition"
   ]
  },
  {
   "cell_type": "markdown",
   "metadata": {},
   "source": [
    "### H0 : There is no Significant impact of Education Field on Attrition\n",
    "### H1 : There is Significant impact of Education Field on Attrition"
   ]
  },
  {
   "cell_type": "code",
   "execution_count": 37,
   "metadata": {},
   "outputs": [],
   "source": [
    "stats,p=mannwhitneyu(df.EducationField[df.Attrition==0],df.EducationField[df.Attrition==1])"
   ]
  },
  {
   "cell_type": "code",
   "execution_count": 38,
   "metadata": {},
   "outputs": [
    {
     "name": "stdout",
     "output_type": "stream",
     "text": [
      "p-value is  0.0001380350032352316\n"
     ]
    }
   ],
   "source": [
    "print(\"p-value is \",p)"
   ]
  },
  {
   "cell_type": "markdown",
   "metadata": {},
   "source": [
    "## Since p-value < 0.05 we reject H0 and accept H1 , i.e. Education Field has impact on Attrition"
   ]
  },
  {
   "cell_type": "markdown",
   "metadata": {},
   "source": [
    "### H0 : There is no Significant impact of Percent Salary Hike on Attrition\n",
    "### H1 : There is Significant impact of Percent Salary Hike on Attrition"
   ]
  },
  {
   "cell_type": "code",
   "execution_count": 39,
   "metadata": {},
   "outputs": [],
   "source": [
    "stats,p=mannwhitneyu(df.PercentSalaryHike[df.Attrition==0],df.PercentSalaryHike[df.Attrition==1])"
   ]
  },
  {
   "cell_type": "code",
   "execution_count": 40,
   "metadata": {},
   "outputs": [
    {
     "name": "stdout",
     "output_type": "stream",
     "text": [
      "p-value is  0.017810794960084964\n"
     ]
    }
   ],
   "source": [
    "print(\"p-value is \",p)"
   ]
  },
  {
   "cell_type": "markdown",
   "metadata": {},
   "source": [
    "## Since p-value > 0.05 we accept H0  , i.e. Percent Salary Hike has no impact on Attrition"
   ]
  },
  {
   "cell_type": "code",
   "execution_count": 41,
   "metadata": {},
   "outputs": [
    {
     "data": {
      "text/plain": [
       "Index(['Age', 'Attrition', 'BusinessTravel', 'Department', 'DistanceFromHome',\n",
       "       'Education', 'EducationField', 'EmployeeCount', 'EmployeeID', 'Gender',\n",
       "       'JobLevel', 'JobRole', 'MaritalStatus', 'MonthlyIncome',\n",
       "       'NumCompaniesWorked', 'Over18', 'PercentSalaryHike', 'StandardHours',\n",
       "       'StockOptionLevel', 'TotalWorkingYears', 'TrainingTimesLastYear',\n",
       "       'YearsAtCompany', 'YearsSinceLastPromotion', 'YearsWithCurrManager'],\n",
       "      dtype='object')"
      ]
     },
     "execution_count": 41,
     "metadata": {},
     "output_type": "execute_result"
    }
   ],
   "source": [
    "df.columns"
   ]
  },
  {
   "cell_type": "code",
   "execution_count": 42,
   "metadata": {},
   "outputs": [
    {
     "data": {
      "text/html": [
       "<div>\n",
       "<style scoped>\n",
       "    .dataframe tbody tr th:only-of-type {\n",
       "        vertical-align: middle;\n",
       "    }\n",
       "\n",
       "    .dataframe tbody tr th {\n",
       "        vertical-align: top;\n",
       "    }\n",
       "\n",
       "    .dataframe thead th {\n",
       "        text-align: right;\n",
       "    }\n",
       "</style>\n",
       "<table border=\"1\" class=\"dataframe\">\n",
       "  <thead>\n",
       "    <tr style=\"text-align: right;\">\n",
       "      <th></th>\n",
       "      <th>Age</th>\n",
       "      <th>Attrition</th>\n",
       "      <th>BusinessTravel</th>\n",
       "      <th>Department</th>\n",
       "      <th>DistanceFromHome</th>\n",
       "      <th>Education</th>\n",
       "      <th>EducationField</th>\n",
       "      <th>EmployeeCount</th>\n",
       "      <th>EmployeeID</th>\n",
       "      <th>Gender</th>\n",
       "      <th>JobLevel</th>\n",
       "      <th>JobRole</th>\n",
       "      <th>MaritalStatus</th>\n",
       "      <th>MonthlyIncome</th>\n",
       "      <th>NumCompaniesWorked</th>\n",
       "      <th>Over18</th>\n",
       "      <th>PercentSalaryHike</th>\n",
       "      <th>StandardHours</th>\n",
       "      <th>StockOptionLevel</th>\n",
       "      <th>TotalWorkingYears</th>\n",
       "      <th>TrainingTimesLastYear</th>\n",
       "      <th>YearsAtCompany</th>\n",
       "      <th>YearsSinceLastPromotion</th>\n",
       "      <th>YearsWithCurrManager</th>\n",
       "    </tr>\n",
       "  </thead>\n",
       "  <tbody>\n",
       "    <tr>\n",
       "      <th>0</th>\n",
       "      <td>51</td>\n",
       "      <td>0</td>\n",
       "      <td>2</td>\n",
       "      <td>Sales</td>\n",
       "      <td>5</td>\n",
       "      <td>2</td>\n",
       "      <td>Life Sciences</td>\n",
       "      <td>1</td>\n",
       "      <td>1</td>\n",
       "      <td>0</td>\n",
       "      <td>1</td>\n",
       "      <td>Healthcare Representative</td>\n",
       "      <td>Married</td>\n",
       "      <td>131160</td>\n",
       "      <td>1.0</td>\n",
       "      <td>Y</td>\n",
       "      <td>11</td>\n",
       "      <td>8</td>\n",
       "      <td>0</td>\n",
       "      <td>1.0</td>\n",
       "      <td>6</td>\n",
       "      <td>1</td>\n",
       "      <td>0</td>\n",
       "      <td>0</td>\n",
       "    </tr>\n",
       "    <tr>\n",
       "      <th>1</th>\n",
       "      <td>31</td>\n",
       "      <td>1</td>\n",
       "      <td>1</td>\n",
       "      <td>Research &amp; Development</td>\n",
       "      <td>9</td>\n",
       "      <td>1</td>\n",
       "      <td>Life Sciences</td>\n",
       "      <td>1</td>\n",
       "      <td>2</td>\n",
       "      <td>0</td>\n",
       "      <td>1</td>\n",
       "      <td>Research Scientist</td>\n",
       "      <td>Single</td>\n",
       "      <td>41890</td>\n",
       "      <td>0.0</td>\n",
       "      <td>Y</td>\n",
       "      <td>23</td>\n",
       "      <td>8</td>\n",
       "      <td>1</td>\n",
       "      <td>6.0</td>\n",
       "      <td>3</td>\n",
       "      <td>5</td>\n",
       "      <td>1</td>\n",
       "      <td>4</td>\n",
       "    </tr>\n",
       "  </tbody>\n",
       "</table>\n",
       "</div>"
      ],
      "text/plain": [
       "   Age  Attrition  BusinessTravel              Department  DistanceFromHome  \\\n",
       "0   51          0               2                   Sales                 5   \n",
       "1   31          1               1  Research & Development                 9   \n",
       "\n",
       "   Education EducationField  EmployeeCount  EmployeeID  Gender  JobLevel  \\\n",
       "0          2  Life Sciences              1           1       0         1   \n",
       "1          1  Life Sciences              1           2       0         1   \n",
       "\n",
       "                     JobRole MaritalStatus  MonthlyIncome  NumCompaniesWorked  \\\n",
       "0  Healthcare Representative       Married         131160                 1.0   \n",
       "1         Research Scientist        Single          41890                 0.0   \n",
       "\n",
       "  Over18  PercentSalaryHike  StandardHours  StockOptionLevel  \\\n",
       "0      Y                 11              8                 0   \n",
       "1      Y                 23              8                 1   \n",
       "\n",
       "   TotalWorkingYears  TrainingTimesLastYear  YearsAtCompany  \\\n",
       "0                1.0                      6               1   \n",
       "1                6.0                      3               5   \n",
       "\n",
       "   YearsSinceLastPromotion  YearsWithCurrManager  \n",
       "0                        0                     0  \n",
       "1                        1                     4  "
      ]
     },
     "execution_count": 42,
     "metadata": {},
     "output_type": "execute_result"
    }
   ],
   "source": [
    "\n",
    "pd.set_option('display.max_columns', None)\n",
    "df.head(2)"
   ]
  },
  {
   "cell_type": "code",
   "execution_count": 43,
   "metadata": {},
   "outputs": [
    {
     "data": {
      "text/plain": [
       "array(['Healthcare Representative', 'Research Scientist',\n",
       "       'Sales Executive', 'Human Resources', 'Research Director',\n",
       "       'Laboratory Technician', 'Manufacturing Director',\n",
       "       'Sales Representative', 'Manager'], dtype=object)"
      ]
     },
     "execution_count": 43,
     "metadata": {},
     "output_type": "execute_result"
    }
   ],
   "source": [
    "df['JobRole'].unique()"
   ]
  },
  {
   "cell_type": "markdown",
   "metadata": {},
   "source": [
    "### H0 : There is no Significant impact of Job Level Hike on Attrition\n",
    "### H1 : There is Significant impact of Job Level Hike on Attrition"
   ]
  },
  {
   "cell_type": "code",
   "execution_count": 44,
   "metadata": {},
   "outputs": [
    {
     "name": "stdout",
     "output_type": "stream",
     "text": [
      "p-value is  0.3940631141019965\n"
     ]
    }
   ],
   "source": [
    "stats,p=mannwhitneyu(df.JobLevel[df.Attrition==0],df.JobLevel[df.Attrition==1])\n",
    "print(\"p-value is \",p)"
   ]
  },
  {
   "cell_type": "markdown",
   "metadata": {},
   "source": [
    "## Since p-value > 0.05 we accept H0  , i.e. Job Level has no impact on Attrition"
   ]
  },
  {
   "cell_type": "markdown",
   "metadata": {},
   "source": [
    "### H0 : There is no Significant impact of Monthly Income on Attrition\n",
    "### H1 : There is Significant impact of Monthly Income on Attrition"
   ]
  },
  {
   "cell_type": "code",
   "execution_count": 45,
   "metadata": {},
   "outputs": [
    {
     "name": "stdout",
     "output_type": "stream",
     "text": [
      "p-value is  0.06508807631576838\n"
     ]
    }
   ],
   "source": [
    "stats,p=mannwhitneyu(df.MonthlyIncome[df.Attrition==0],df.MonthlyIncome[df.Attrition==1])\n",
    "print(\"p-value is \",p)"
   ]
  },
  {
   "cell_type": "markdown",
   "metadata": {},
   "source": [
    "## Since p-value > 0.05 we accept H0  , i.e. Monthly Income has no impact on Attrition"
   ]
  },
  {
   "cell_type": "markdown",
   "metadata": {},
   "source": [
    "### H0 : There is no Significant impact of Num Of Companies Worked on Attrition\n",
    "### H1 : There is Significant impact of Num Of Companies Worked on Attrition"
   ]
  },
  {
   "cell_type": "code",
   "execution_count": 46,
   "metadata": {},
   "outputs": [
    {
     "name": "stdout",
     "output_type": "stream",
     "text": [
      "p-value is  0.02793197853866981\n"
     ]
    }
   ],
   "source": [
    "stats,p=mannwhitneyu(df.NumCompaniesWorked[df.Attrition==0],df.NumCompaniesWorked[df.Attrition==1])\n",
    "print(\"p-value is \",p)"
   ]
  },
  {
   "cell_type": "markdown",
   "metadata": {},
   "source": [
    "## Since p-value <0.05 we reject H0  , i.e. Num of Companies Worked has impact on Attrition"
   ]
  },
  {
   "cell_type": "markdown",
   "metadata": {},
   "source": [
    "### H0 : There is no Significant impact of StockOptionLevel on Attrition\n",
    "### H1 : There is Significant impact of StockOptionLevel on Attrition"
   ]
  },
  {
   "cell_type": "code",
   "execution_count": 47,
   "metadata": {},
   "outputs": [
    {
     "name": "stdout",
     "output_type": "stream",
     "text": [
      "p-value is  0.24144793587056157\n"
     ]
    }
   ],
   "source": [
    "stats,p=mannwhitneyu(df.StockOptionLevel[df.Attrition==0],df.StockOptionLevel[df.Attrition==1])\n",
    "print(\"p-value is \",p)"
   ]
  },
  {
   "cell_type": "markdown",
   "metadata": {},
   "source": [
    "## Since p-value > 0.05 we accept H0  , i.e. Stock Option Level has no impact on Attrition"
   ]
  },
  {
   "cell_type": "markdown",
   "metadata": {},
   "source": [
    "### H0 : There is no Significant impact of Total Working Years on Attrition\n",
    "### H1 : There is Significant impact of Total Working Years on Attrition"
   ]
  },
  {
   "cell_type": "code",
   "execution_count": 48,
   "metadata": {},
   "outputs": [
    {
     "name": "stdout",
     "output_type": "stream",
     "text": [
      "p-value is  2.741211827689903e-39\n"
     ]
    }
   ],
   "source": [
    "stats,p=mannwhitneyu(df.TotalWorkingYears[df.Attrition==0],df.TotalWorkingYears[df.Attrition==1])\n",
    "print(\"p-value is \",p)"
   ]
  },
  {
   "cell_type": "markdown",
   "metadata": {},
   "source": [
    "## Since p-value > 0.05 we accept H0  , i.e. Total Working Years has no impact on Attrition"
   ]
  },
  {
   "cell_type": "markdown",
   "metadata": {},
   "source": [
    "### H0 : There is no Significant impact of Training Times Last Year on Attrition\n",
    "### H1 : There is Significant impact of Training Times Last Year on Attrition"
   ]
  },
  {
   "cell_type": "code",
   "execution_count": 49,
   "metadata": {},
   "outputs": [
    {
     "name": "stdout",
     "output_type": "stream",
     "text": [
      "p-value is  0.008107344081224082\n"
     ]
    }
   ],
   "source": [
    "stats,p=mannwhitneyu(df.TrainingTimesLastYear[df.Attrition==0],df.TrainingTimesLastYear[df.Attrition==1])\n",
    "print(\"p-value is \",p)"
   ]
  },
  {
   "cell_type": "markdown",
   "metadata": {},
   "source": [
    "## Since p-value > 0.05 we accept H0  , i.e. Training Times Last year has no impact on Attrition"
   ]
  },
  {
   "cell_type": "markdown",
   "metadata": {},
   "source": [
    "### H0 : There is no Significant impact of Years At Company on Attrition\n",
    "### H1 : There is Significant impact of Years At Company on Attrition"
   ]
  },
  {
   "cell_type": "code",
   "execution_count": 50,
   "metadata": {},
   "outputs": [
    {
     "name": "stdout",
     "output_type": "stream",
     "text": [
      "p-value is  3.3433144809752036e-36\n"
     ]
    }
   ],
   "source": [
    "stats,p=mannwhitneyu(df.YearsAtCompany [df.Attrition==0],df.YearsAtCompany [df.Attrition==1])\n",
    "print(\"p-value is \",p)"
   ]
  },
  {
   "cell_type": "markdown",
   "metadata": {},
   "source": [
    "## Since p-value > 0.05 we accept H0  , i.e. Years at Company has no impact on Attrition"
   ]
  },
  {
   "cell_type": "markdown",
   "metadata": {},
   "source": [
    "### H0 : There is no Significant impact of YearsSinceLastPromotion on Attrition\n",
    "### H1 : There is Significant impact of YearsSinceLastPromotion on Attrition"
   ]
  },
  {
   "cell_type": "code",
   "execution_count": 51,
   "metadata": {},
   "outputs": [
    {
     "name": "stdout",
     "output_type": "stream",
     "text": [
      "p-value is  0.00037904698157957496\n"
     ]
    }
   ],
   "source": [
    "stats,p=mannwhitneyu(df.YearsSinceLastPromotion[df.Attrition==0],df.YearsSinceLastPromotion[df.Attrition==1])\n",
    "print(\"p-value is \",p)"
   ]
  },
  {
   "cell_type": "markdown",
   "metadata": {},
   "source": [
    "## Since p-value < 0.05 we accept H1  , i.e. Years Since Last Promotion has no impact on Attrition"
   ]
  },
  {
   "cell_type": "markdown",
   "metadata": {},
   "source": [
    "### H0 : There is no Significant impact of YearsWithCurrManager on Attrition\n",
    "### H1 : There is Significant impact of YearsWithCurrManager on Attrition"
   ]
  },
  {
   "cell_type": "code",
   "execution_count": 52,
   "metadata": {},
   "outputs": [
    {
     "name": "stdout",
     "output_type": "stream",
     "text": [
      "p-value is  5.420302388722274e-31\n"
     ]
    }
   ],
   "source": [
    "stats,p=mannwhitneyu(df.YearsWithCurrManager[df.Attrition==0],df.YearsWithCurrManager[df.Attrition==1])\n",
    "print(\"p-value is \",p)"
   ]
  },
  {
   "cell_type": "markdown",
   "metadata": {},
   "source": [
    "## Since p-value < 0.05 we accept H0  , i.e. Years with Current Manager has no impact on Attrition"
   ]
  },
  {
   "cell_type": "markdown",
   "metadata": {},
   "source": [
    "## Chi2 Test"
   ]
  },
  {
   "cell_type": "code",
   "execution_count": 53,
   "metadata": {},
   "outputs": [],
   "source": [
    "from scipy.stats import chi2_contingency"
   ]
  },
  {
   "cell_type": "markdown",
   "metadata": {},
   "source": [
    "### H0 : There is no Significant impact of Job Role on Attrition\n",
    "### H1 : There is Significant impact of Job Role on Attrition"
   ]
  },
  {
   "cell_type": "code",
   "execution_count": 54,
   "metadata": {},
   "outputs": [],
   "source": [
    "chitable=pd.crosstab(df.JobRole,df.Attrition)"
   ]
  },
  {
   "cell_type": "code",
   "execution_count": 55,
   "metadata": {},
   "outputs": [
    {
     "name": "stdout",
     "output_type": "stream",
     "text": [
      "p-value is- 0.005116592717526599\n"
     ]
    }
   ],
   "source": [
    "chitable.head()\n",
    "stats,p,dof,expected=chi2_contingency(chitable)\n",
    "print(\"p-value is-\",p)"
   ]
  },
  {
   "cell_type": "markdown",
   "metadata": {},
   "source": [
    "## Since p-value > 0.05 we accept H0 , i.e. Job Role has no impact on Attrition"
   ]
  },
  {
   "cell_type": "markdown",
   "metadata": {},
   "source": [
    "### H0 : There is no Significant impact of Gender on Attrition\n",
    "### H1 : There is Significant impact of Gender on Attrition"
   ]
  },
  {
   "cell_type": "code",
   "execution_count": 56,
   "metadata": {},
   "outputs": [
    {
     "name": "stdout",
     "output_type": "stream",
     "text": [
      "p-value is- 0.23966176275638887\n"
     ]
    }
   ],
   "source": [
    "chitable=pd.crosstab(df.Gender,df.Attrition)\n",
    "chitable.head()\n",
    "stats,p,dof,expected=chi2_contingency(chitable)\n",
    "print(\"p-value is-\",p)"
   ]
  },
  {
   "cell_type": "markdown",
   "metadata": {},
   "source": [
    "## Since p-value > 0.05 we accept H0 , i.e. Gender has no impact on Attrition"
   ]
  },
  {
   "cell_type": "markdown",
   "metadata": {},
   "source": [
    "### H0 : There is no Significant impact of Marital Status on Attrition\n",
    "### H1 : There is Significant impact of Marital Status on Attrition"
   ]
  },
  {
   "cell_type": "code",
   "execution_count": 57,
   "metadata": {},
   "outputs": [
    {
     "name": "stdout",
     "output_type": "stream",
     "text": [
      "p-value is- 8.573051828219502e-30\n"
     ]
    }
   ],
   "source": [
    "chitable=pd.crosstab(df.MaritalStatus,df.Attrition)\n",
    "chitable.head()\n",
    "stats,p,dof,expected=chi2_contingency(chitable)\n",
    "print(\"p-value is-\",p)"
   ]
  },
  {
   "cell_type": "markdown",
   "metadata": {},
   "source": [
    "### H0 : There is no Significant impact ofDepartment on Attrition\n",
    "### H1 : There is Significant impact of Department on Attrition"
   ]
  },
  {
   "cell_type": "code",
   "execution_count": 58,
   "metadata": {},
   "outputs": [
    {
     "name": "stdout",
     "output_type": "stream",
     "text": [
      "p-value is- 2.3829705707693105e-06\n"
     ]
    }
   ],
   "source": [
    "chitable=pd.crosstab(df.Department,df.Attrition)\n",
    "chitable.head()\n",
    "stats,p,dof,expected=chi2_contingency(chitable)\n",
    "print(\"p-value is-\",p)"
   ]
  },
  {
   "cell_type": "markdown",
   "metadata": {},
   "source": [
    "## Since p-value < 0.05 we reject H0 and accept H1 , i.e. Marital Status has impact on Attrition"
   ]
  },
  {
   "cell_type": "code",
   "execution_count": 59,
   "metadata": {},
   "outputs": [
    {
     "data": {
      "text/plain": [
       "Age                        0.413048\n",
       "Attrition                  1.846529\n",
       "BusinessTravel            -1.437507\n",
       "DistanceFromHome           0.955517\n",
       "Education                 -0.288977\n",
       "EmployeeCount              0.000000\n",
       "EmployeeID                -0.002335\n",
       "Gender                    -0.405283\n",
       "JobLevel                   1.021797\n",
       "MonthlyIncome              1.367457\n",
       "NumCompaniesWorked         1.029174\n",
       "PercentSalaryHike          0.819510\n",
       "StandardHours              0.000000\n",
       "StockOptionLevel           0.967263\n",
       "TotalWorkingYears          1.115419\n",
       "TrainingTimesLastYear      0.551818\n",
       "YearsAtCompany             1.764619\n",
       "YearsSinceLastPromotion    1.980992\n",
       "YearsWithCurrManager       0.834277\n",
       "dtype: float64"
      ]
     },
     "execution_count": 59,
     "metadata": {},
     "output_type": "execute_result"
    }
   ],
   "source": [
    "df.skew()"
   ]
  },
  {
   "cell_type": "markdown",
   "metadata": {},
   "source": [
    "## 2 Sample Independent t test"
   ]
  },
  {
   "cell_type": "code",
   "execution_count": 60,
   "metadata": {},
   "outputs": [],
   "source": [
    "from scipy.stats import ttest_ind"
   ]
  },
  {
   "cell_type": "markdown",
   "metadata": {},
   "source": [
    "### H0 : There is no Significant impact of Age on Attrition\n",
    "### H1 : There is Significant impact of Age on Attrition"
   ]
  },
  {
   "cell_type": "code",
   "execution_count": 61,
   "metadata": {},
   "outputs": [
    {
     "name": "stdout",
     "output_type": "stream",
     "text": [
      "p-value- 0.0\n"
     ]
    }
   ],
   "source": [
    "stats,p=ttest_ind(df.Age,df.Attrition)\n",
    "print(\"p-value-\",p)"
   ]
  },
  {
   "cell_type": "markdown",
   "metadata": {},
   "source": [
    "## Since p-value < 0.05 we reject H0 and accept H1 , i.e. Age has impact on Attrition"
   ]
  },
  {
   "cell_type": "markdown",
   "metadata": {},
   "source": [
    "### H0 : There is no Significant impact of Education on Attrition\n",
    "### H1 : There is Significant impact of Education on Attrition"
   ]
  },
  {
   "cell_type": "code",
   "execution_count": 62,
   "metadata": {},
   "outputs": [
    {
     "name": "stdout",
     "output_type": "stream",
     "text": [
      "p-value- 0.0\n"
     ]
    }
   ],
   "source": [
    "stats,p=ttest_ind(df.Education,df.Attrition)\n",
    "print(\"p-value-\",p)"
   ]
  },
  {
   "cell_type": "markdown",
   "metadata": {},
   "source": [
    "## Since p-value = 0.05 we cannot draw a conclusion and will plot graphs to get a better overview"
   ]
  },
  {
   "cell_type": "code",
   "execution_count": 63,
   "metadata": {
    "scrolled": true
   },
   "outputs": [
    {
     "data": {
      "text/plain": [
       "<matplotlib.axes._subplots.AxesSubplot at 0x2132079ae80>"
      ]
     },
     "execution_count": 63,
     "metadata": {},
     "output_type": "execute_result"
    },
    {
     "data": {
      "image/png": "[encoded data removed]",
      "text/plain": [
       "<Figure size 432x288 with 1 Axes>"
      ]
     },
     "metadata": {
      "needs_background": "light"
     },
     "output_type": "display_data"
    }
   ],
   "source": [
    "sns.countplot(x=\"Attrition\",hue=\"Education\",data=df)"
   ]
  },
  {
   "cell_type": "code",
   "execution_count": 64,
   "metadata": {},
   "outputs": [
    {
     "data": {
      "text/html": [
       "<div>\n",
       "<style scoped>\n",
       "    .dataframe tbody tr th:only-of-type {\n",
       "        vertical-align: middle;\n",
       "    }\n",
       "\n",
       "    .dataframe tbody tr th {\n",
       "        vertical-align: top;\n",
       "    }\n",
       "\n",
       "    .dataframe thead th {\n",
       "        text-align: right;\n",
       "    }\n",
       "</style>\n",
       "<table border=\"1\" class=\"dataframe\">\n",
       "  <thead>\n",
       "    <tr style=\"text-align: right;\">\n",
       "      <th></th>\n",
       "      <th>Education</th>\n",
       "      <th>Attrition</th>\n",
       "    </tr>\n",
       "  </thead>\n",
       "  <tbody>\n",
       "    <tr>\n",
       "      <th>1</th>\n",
       "      <td>2</td>\n",
       "      <td>0.188836</td>\n",
       "    </tr>\n",
       "    <tr>\n",
       "      <th>3</th>\n",
       "      <td>4</td>\n",
       "      <td>0.155724</td>\n",
       "    </tr>\n",
       "    <tr>\n",
       "      <th>2</th>\n",
       "      <td>3</td>\n",
       "      <td>0.154615</td>\n",
       "    </tr>\n",
       "    <tr>\n",
       "      <th>0</th>\n",
       "      <td>1</td>\n",
       "      <td>0.153543</td>\n",
       "    </tr>\n",
       "    <tr>\n",
       "      <th>4</th>\n",
       "      <td>5</td>\n",
       "      <td>0.139860</td>\n",
       "    </tr>\n",
       "  </tbody>\n",
       "</table>\n",
       "</div>"
      ],
      "text/plain": [
       "   Education  Attrition\n",
       "1          2   0.188836\n",
       "3          4   0.155724\n",
       "2          3   0.154615\n",
       "0          1   0.153543\n",
       "4          5   0.139860"
      ]
     },
     "execution_count": 64,
     "metadata": {},
     "output_type": "execute_result"
    }
   ],
   "source": [
    "df[[\"Attrition\",\"Education\"]].groupby(['Education'], as_index=False).mean().sort_values(by='Attrition', ascending=False)\n"
   ]
  },
  {
   "cell_type": "markdown",
   "metadata": {},
   "source": [
    "## Our graph and statistics show that education has no impact on Attrition."
   ]
  },
  {
   "cell_type": "code",
   "execution_count": 65,
   "metadata": {},
   "outputs": [
    {
     "data": {
      "text/plain": [
       "<matplotlib.axes._subplots.AxesSubplot at 0x213206fb358>"
      ]
     },
     "execution_count": 65,
     "metadata": {},
     "output_type": "execute_result"
    },
    {
     "data": {
      "image/png": "[encoded data removed]",
      "text/plain": [
       "<Figure size 432x288 with 1 Axes>"
      ]
     },
     "metadata": {
      "needs_background": "light"
     },
     "output_type": "display_data"
    }
   ],
   "source": [
    "sns.countplot(df['Attrition'])"
   ]
  },
  {
   "cell_type": "code",
   "execution_count": 66,
   "metadata": {},
   "outputs": [
    {
     "data": {
      "text/plain": [
       "<matplotlib.axes._subplots.AxesSubplot at 0x213207f4668>"
      ]
     },
     "execution_count": 66,
     "metadata": {},
     "output_type": "execute_result"
    },
    {
     "data": {
      "image/png": "[encoded data removed]",
      "text/plain": [
       "<Figure size 432x288 with 1 Axes>"
      ]
     },
     "metadata": {
      "needs_background": "light"
     },
     "output_type": "display_data"
    }
   ],
   "source": [
    "sns.countplot(x=\"Attrition\",hue=\"BusinessTravel\",data=df)"
   ]
  },
  {
   "cell_type": "code",
   "execution_count": 67,
   "metadata": {},
   "outputs": [
    {
     "data": {
      "text/html": [
       "<div>\n",
       "<style scoped>\n",
       "    .dataframe tbody tr th:only-of-type {\n",
       "        vertical-align: middle;\n",
       "    }\n",
       "\n",
       "    .dataframe tbody tr th {\n",
       "        vertical-align: top;\n",
       "    }\n",
       "\n",
       "    .dataframe thead th {\n",
       "        text-align: right;\n",
       "    }\n",
       "</style>\n",
       "<table border=\"1\" class=\"dataframe\">\n",
       "  <thead>\n",
       "    <tr style=\"text-align: right;\">\n",
       "      <th></th>\n",
       "      <th>BusinessTravel</th>\n",
       "      <th>Attrition</th>\n",
       "    </tr>\n",
       "  </thead>\n",
       "  <tbody>\n",
       "    <tr>\n",
       "      <th>1</th>\n",
       "      <td>1</td>\n",
       "      <td>0.247273</td>\n",
       "    </tr>\n",
       "    <tr>\n",
       "      <th>2</th>\n",
       "      <td>2</td>\n",
       "      <td>0.149566</td>\n",
       "    </tr>\n",
       "    <tr>\n",
       "      <th>0</th>\n",
       "      <td>0</td>\n",
       "      <td>0.080357</td>\n",
       "    </tr>\n",
       "  </tbody>\n",
       "</table>\n",
       "</div>"
      ],
      "text/plain": [
       "   BusinessTravel  Attrition\n",
       "1               1   0.247273\n",
       "2               2   0.149566\n",
       "0               0   0.080357"
      ]
     },
     "execution_count": 67,
     "metadata": {},
     "output_type": "execute_result"
    }
   ],
   "source": [
    "df[[\"Attrition\",\"BusinessTravel\"]].groupby(['BusinessTravel'], as_index=False).mean().sort_values(by='Attrition', ascending=False)\n"
   ]
  },
  {
   "cell_type": "code",
   "execution_count": 68,
   "metadata": {
    "scrolled": true
   },
   "outputs": [
    {
     "data": {
      "text/plain": [
       "<matplotlib.axes._subplots.AxesSubplot at 0x21320732240>"
      ]
     },
     "execution_count": 68,
     "metadata": {},
     "output_type": "execute_result"
    },
    {
     "data": {
      "image/png": "[encoded data removed]",
      "text/plain": [
       "<Figure size 432x288 with 1 Axes>"
      ]
     },
     "metadata": {
      "needs_background": "light"
     },
     "output_type": "display_data"
    }
   ],
   "source": [
    "sns.countplot(x=\"Attrition\",hue=\"EducationField\",data=df)"
   ]
  },
  {
   "cell_type": "code",
   "execution_count": 69,
   "metadata": {
    "scrolled": true
   },
   "outputs": [
    {
     "data": {
      "text/html": [
       "<div>\n",
       "<style scoped>\n",
       "    .dataframe tbody tr th:only-of-type {\n",
       "        vertical-align: middle;\n",
       "    }\n",
       "\n",
       "    .dataframe tbody tr th {\n",
       "        vertical-align: top;\n",
       "    }\n",
       "\n",
       "    .dataframe thead th {\n",
       "        text-align: right;\n",
       "    }\n",
       "</style>\n",
       "<table border=\"1\" class=\"dataframe\">\n",
       "  <thead>\n",
       "    <tr style=\"text-align: right;\">\n",
       "      <th></th>\n",
       "      <th>EducationField</th>\n",
       "      <th>Attrition</th>\n",
       "    </tr>\n",
       "  </thead>\n",
       "  <tbody>\n",
       "    <tr>\n",
       "      <th>0</th>\n",
       "      <td>Human Resources</td>\n",
       "      <td>0.400000</td>\n",
       "    </tr>\n",
       "    <tr>\n",
       "      <th>1</th>\n",
       "      <td>Life Sciences</td>\n",
       "      <td>0.166667</td>\n",
       "    </tr>\n",
       "    <tr>\n",
       "      <th>3</th>\n",
       "      <td>Medical</td>\n",
       "      <td>0.160289</td>\n",
       "    </tr>\n",
       "    <tr>\n",
       "      <th>2</th>\n",
       "      <td>Marketing</td>\n",
       "      <td>0.157895</td>\n",
       "    </tr>\n",
       "    <tr>\n",
       "      <th>4</th>\n",
       "      <td>Other</td>\n",
       "      <td>0.122951</td>\n",
       "    </tr>\n",
       "    <tr>\n",
       "      <th>5</th>\n",
       "      <td>Technical Degree</td>\n",
       "      <td>0.114796</td>\n",
       "    </tr>\n",
       "  </tbody>\n",
       "</table>\n",
       "</div>"
      ],
      "text/plain": [
       "     EducationField  Attrition\n",
       "0   Human Resources   0.400000\n",
       "1     Life Sciences   0.166667\n",
       "3           Medical   0.160289\n",
       "2         Marketing   0.157895\n",
       "4             Other   0.122951\n",
       "5  Technical Degree   0.114796"
      ]
     },
     "execution_count": 69,
     "metadata": {},
     "output_type": "execute_result"
    }
   ],
   "source": [
    "df[[\"Attrition\",\"EducationField\"]].groupby(['EducationField'], as_index=False).mean().sort_values(by='Attrition', ascending=False)\n"
   ]
  },
  {
   "cell_type": "code",
   "execution_count": 70,
   "metadata": {},
   "outputs": [
    {
     "data": {
      "text/plain": [
       "<matplotlib.axes._subplots.AxesSubplot at 0x213208b69b0>"
      ]
     },
     "execution_count": 70,
     "metadata": {},
     "output_type": "execute_result"
    },
    {
     "data": {
      "image/png": "[encoded data removed]",
      "text/plain": [
       "<Figure size 432x288 with 1 Axes>"
      ]
     },
     "metadata": {
      "needs_background": "light"
     },
     "output_type": "display_data"
    }
   ],
   "source": [
    "sns.countplot(x=\"Attrition\",hue=\"NumCompaniesWorked\",data=df)"
   ]
  },
  {
   "cell_type": "code",
   "execution_count": 71,
   "metadata": {},
   "outputs": [
    {
     "data": {
      "text/html": [
       "<div>\n",
       "<style scoped>\n",
       "    .dataframe tbody tr th:only-of-type {\n",
       "        vertical-align: middle;\n",
       "    }\n",
       "\n",
       "    .dataframe tbody tr th {\n",
       "        vertical-align: top;\n",
       "    }\n",
       "\n",
       "    .dataframe thead th {\n",
       "        text-align: right;\n",
       "    }\n",
       "</style>\n",
       "<table border=\"1\" class=\"dataframe\">\n",
       "  <thead>\n",
       "    <tr style=\"text-align: right;\">\n",
       "      <th></th>\n",
       "      <th>NumCompaniesWorked</th>\n",
       "      <th>Attrition</th>\n",
       "    </tr>\n",
       "  </thead>\n",
       "  <tbody>\n",
       "    <tr>\n",
       "      <th>5</th>\n",
       "      <td>5.0</td>\n",
       "      <td>0.245989</td>\n",
       "    </tr>\n",
       "    <tr>\n",
       "      <th>7</th>\n",
       "      <td>7.0</td>\n",
       "      <td>0.232877</td>\n",
       "    </tr>\n",
       "    <tr>\n",
       "      <th>6</th>\n",
       "      <td>6.0</td>\n",
       "      <td>0.230769</td>\n",
       "    </tr>\n",
       "    <tr>\n",
       "      <th>9</th>\n",
       "      <td>9.0</td>\n",
       "      <td>0.230769</td>\n",
       "    </tr>\n",
       "    <tr>\n",
       "      <th>1</th>\n",
       "      <td>1.0</td>\n",
       "      <td>0.187661</td>\n",
       "    </tr>\n",
       "    <tr>\n",
       "      <th>8</th>\n",
       "      <td>8.0</td>\n",
       "      <td>0.122449</td>\n",
       "    </tr>\n",
       "    <tr>\n",
       "      <th>4</th>\n",
       "      <td>4.0</td>\n",
       "      <td>0.118644</td>\n",
       "    </tr>\n",
       "    <tr>\n",
       "      <th>0</th>\n",
       "      <td>0.0</td>\n",
       "      <td>0.118151</td>\n",
       "    </tr>\n",
       "    <tr>\n",
       "      <th>2</th>\n",
       "      <td>2.0</td>\n",
       "      <td>0.109589</td>\n",
       "    </tr>\n",
       "    <tr>\n",
       "      <th>3</th>\n",
       "      <td>3.0</td>\n",
       "      <td>0.101266</td>\n",
       "    </tr>\n",
       "  </tbody>\n",
       "</table>\n",
       "</div>"
      ],
      "text/plain": [
       "   NumCompaniesWorked  Attrition\n",
       "5                 5.0   0.245989\n",
       "7                 7.0   0.232877\n",
       "6                 6.0   0.230769\n",
       "9                 9.0   0.230769\n",
       "1                 1.0   0.187661\n",
       "8                 8.0   0.122449\n",
       "4                 4.0   0.118644\n",
       "0                 0.0   0.118151\n",
       "2                 2.0   0.109589\n",
       "3                 3.0   0.101266"
      ]
     },
     "execution_count": 71,
     "metadata": {},
     "output_type": "execute_result"
    }
   ],
   "source": [
    "df[[\"Attrition\",\"NumCompaniesWorked\"]].groupby(['NumCompaniesWorked'], as_index=False).mean().sort_values(by='Attrition', ascending=False)\n"
   ]
  },
  {
   "cell_type": "code",
   "execution_count": 72,
   "metadata": {
    "scrolled": true
   },
   "outputs": [
    {
     "data": {
      "text/plain": [
       "<matplotlib.axes._subplots.AxesSubplot at 0x2132094e860>"
      ]
     },
     "execution_count": 72,
     "metadata": {},
     "output_type": "execute_result"
    },
    {
     "data": {
      "image/png": "[encoded data removed]",
      "text/plain": [
       "<Figure size 432x288 with 1 Axes>"
      ]
     },
     "metadata": {
      "needs_background": "light"
     },
     "output_type": "display_data"
    }
   ],
   "source": [
    "sns.countplot(x=\"Attrition\",hue=\"MaritalStatus\",data=df)"
   ]
  },
  {
   "cell_type": "code",
   "execution_count": 73,
   "metadata": {},
   "outputs": [
    {
     "data": {
      "text/html": [
       "<div>\n",
       "<style scoped>\n",
       "    .dataframe tbody tr th:only-of-type {\n",
       "        vertical-align: middle;\n",
       "    }\n",
       "\n",
       "    .dataframe tbody tr th {\n",
       "        vertical-align: top;\n",
       "    }\n",
       "\n",
       "    .dataframe thead th {\n",
       "        text-align: right;\n",
       "    }\n",
       "</style>\n",
       "<table border=\"1\" class=\"dataframe\">\n",
       "  <thead>\n",
       "    <tr style=\"text-align: right;\">\n",
       "      <th></th>\n",
       "      <th>MaritalStatus</th>\n",
       "      <th>Attrition</th>\n",
       "    </tr>\n",
       "  </thead>\n",
       "  <tbody>\n",
       "    <tr>\n",
       "      <th>2</th>\n",
       "      <td>Single</td>\n",
       "      <td>0.253381</td>\n",
       "    </tr>\n",
       "    <tr>\n",
       "      <th>1</th>\n",
       "      <td>Married</td>\n",
       "      <td>0.125062</td>\n",
       "    </tr>\n",
       "    <tr>\n",
       "      <th>0</th>\n",
       "      <td>Divorced</td>\n",
       "      <td>0.101031</td>\n",
       "    </tr>\n",
       "  </tbody>\n",
       "</table>\n",
       "</div>"
      ],
      "text/plain": [
       "  MaritalStatus  Attrition\n",
       "2        Single   0.253381\n",
       "1       Married   0.125062\n",
       "0      Divorced   0.101031"
      ]
     },
     "execution_count": 73,
     "metadata": {},
     "output_type": "execute_result"
    }
   ],
   "source": [
    "df[[\"Attrition\",\"MaritalStatus\"]].groupby(['MaritalStatus'], as_index=False).mean().sort_values(by='Attrition', ascending=False)\n"
   ]
  },
  {
   "cell_type": "code",
   "execution_count": 74,
   "metadata": {
    "scrolled": true
   },
   "outputs": [
    {
     "data": {
      "text/plain": [
       "<seaborn.axisgrid.FacetGrid at 0x213209ad4e0>"
      ]
     },
     "execution_count": 74,
     "metadata": {},
     "output_type": "execute_result"
    },
    {
     "data": {
      "image/png": "[encoded data removed]",
      "text/plain": [
       "<Figure size 432x216 with 2 Axes>"
      ]
     },
     "metadata": {
      "needs_background": "light"
     },
     "output_type": "display_data"
    }
   ],
   "source": [
    "g = sns.FacetGrid(df, col='Attrition')\n",
    "g.map(plt.hist, 'Age', bins=20)"
   ]
  },
  {
   "cell_type": "markdown",
   "metadata": {},
   "source": [
    "# Conclusion\n",
    "## Based on the Above plots the following conclusions can be made\n",
    "- About 20% Employees leave the Company\n",
    "- 25% of those who travel frequently leave the Company . \n",
    "- 40% of the Employees in HR Department leave the Company. \n",
    "- Employees who have worked in 5 or More Companies tend to leave more. This shows a pattern that they can't concentrate on a single company and are always looking for a change.\n",
    "- 25% of the Single Employees leave the company . \n",
    "- People in Ages 28 to 35 have the Highest Attrition Rate. "
   ]
  }
 ],
 "metadata": {
  "kernelspec": {
   "display_name": "Python 3",
   "language": "python",
   "name": "python3"
  },
  "language_info": {
   "codemirror_mode": {
    "name": "ipython",
    "version": 3
   },
   "file_extension": ".py",
   "mimetype": "text/x-python",
   "name": "python",
   "nbconvert_exporter": "python",
   "pygments_lexer": "ipython3",
   "version": "3.7.3"
  }
 },
 "nbformat": 4,
 "nbformat_minor": 2
}
