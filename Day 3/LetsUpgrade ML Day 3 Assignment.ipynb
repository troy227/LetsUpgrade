{
 "cells": [
  {
   "cell_type": "markdown",
   "metadata": {},
   "source": [
    "''' Made by Tushar Roy '''"
   ]
  },
  {
   "cell_type": "markdown",
   "metadata": {},
   "source": [
    "### Question 1\n",
    "#### Write a program to subtract 2 complex numbers in Python "
   ]
  },
  {
   "cell_type": "code",
   "execution_count": 2,
   "metadata": {},
   "outputs": [
    {
     "name": "stdout",
     "output_type": "stream",
     "text": [
      "Enter real and imaginary parts seperated with a space\n",
      "2 3\n",
      "1 2\n",
      "The Sum is - (3+5j)\n"
     ]
    }
   ],
   "source": [
    "print(\"Enter real and imaginary parts seperated with a space\")\n",
    "a,b=map(int, input().split())\n",
    "c,d=map(int, input().split())\n",
    "i1=complex(a,b)\n",
    "i2=complex(c,d)\n",
    "print(\"The Sum is -\",i1+i2)"
   ]
  },
  {
   "cell_type": "markdown",
   "metadata": {},
   "source": [
    "### Question 2\n",
    "#### Write a Program to find the 4th root of a number"
   ]
  },
  {
   "cell_type": "code",
   "execution_count": 3,
   "metadata": {},
   "outputs": [
    {
     "name": "stdout",
     "output_type": "stream",
     "text": [
      "Enter a Number-16\n",
      "2.0\n"
     ]
    }
   ],
   "source": [
    "a=int(input(\"Enter a Number-\"))\n",
    "print(a**0.25)"
   ]
  },
  {
   "cell_type": "markdown",
   "metadata": {},
   "source": [
    "### Question 3:\n",
    "#### Write a program to swap two numbers in Python with the help of a temporary variable."
   ]
  },
  {
   "cell_type": "code",
   "execution_count": 4,
   "metadata": {},
   "outputs": [
    {
     "name": "stdout",
     "output_type": "stream",
     "text": [
      "Enter 2 numbers one by one \n",
      "10\n",
      "20\n",
      "Before Swapping : a=  10  b =  20\n",
      "After Swapping : a=  20  b =  10\n"
     ]
    }
   ],
   "source": [
    "print(\"Enter 2 numbers one by one \")\n",
    "a=int(input())\n",
    "b=int(input())\n",
    "print(\"Before Swapping : a= \",a,\" b = \",b)\n",
    "temp=a\n",
    "a=b\n",
    "b=temp\n",
    "print(\"After Swapping : a= \",a,\" b = \",b)\n"
   ]
  },
  {
   "cell_type": "markdown",
   "metadata": {},
   "source": [
    "### Question 4:\n",
    "#### Write a program to swap two numbers in Python without using a temporary variable."
   ]
  },
  {
   "cell_type": "code",
   "execution_count": 6,
   "metadata": {},
   "outputs": [
    {
     "name": "stdout",
     "output_type": "stream",
     "text": [
      "Enter 2 numbers one by one \n",
      "25\n",
      "50\n",
      "Before Swapping : a=  25  b =  50\n",
      "After Swapping : a=  50  b =  25\n"
     ]
    }
   ],
   "source": [
    "print(\"Enter 2 numbers one by one \")\n",
    "a=int(input())\n",
    "b=int(input())\n",
    "print(\"Before Swapping : a= \",a,\" b = \",b)\n",
    "a,b=b,a\n",
    "print(\"After Swapping : a= \",a,\" b = \",b)\n"
   ]
  },
  {
   "cell_type": "markdown",
   "metadata": {},
   "source": [
    "### Question 5:\n",
    "#### Write a program to convert fahrenheit to kelvin and celsius both.\n"
   ]
  },
  {
   "cell_type": "code",
   "execution_count": 8,
   "metadata": {},
   "outputs": [
    {
     "name": "stdout",
     "output_type": "stream",
     "text": [
      "Enter temprature in Fahrenheit-68\n",
      "Temprature in Kelvin- 293.15\n",
      "Temprature in Celsius- 20.0\n"
     ]
    }
   ],
   "source": [
    "f=int(input(\"Enter temprature in Fahrenheit-\"))\n",
    "k= (f +  459.67) * (5/9)\n",
    "c= (f - 32) * (5/9)\n",
    "print(\"Temprature in Kelvin- %.2f\" % k)\n",
    "print(\"Temprature in Celsius-\",c)"
   ]
  },
  {
   "cell_type": "markdown",
   "metadata": {},
   "source": [
    "### Question 6:\n",
    "#### Write a program to demonstrate all the available data types in Python. Hint: Use type() function"
   ]
  },
  {
   "cell_type": "code",
   "execution_count": 9,
   "metadata": {},
   "outputs": [
    {
     "name": "stdout",
     "output_type": "stream",
     "text": [
      "<class 'int'>\n",
      "<class 'float'>\n",
      "<class 'str'>\n",
      "<class 'complex'>\n",
      "<class 'list'>\n"
     ]
    }
   ],
   "source": [
    "integer=10\n",
    "float_ = 10.0\n",
    "string = \"AB\"\n",
    "c= 2+3j\n",
    "lists=[1,2]\n",
    "print(type(integer))\n",
    "print(type(float_))\n",
    "print(type(string))\n",
    "print(type(c))\n",
    "print(type(lists))\n"
   ]
  },
  {
   "cell_type": "markdown",
   "metadata": {},
   "source": [
    "### Question 7:\n",
    "#### Create a Markdown cell in jupyter and list the steps discussed in the session by Dr. Darshan Ingle sir to create Github profile and upload Githubs Assignment link.\n",
    "- Go to www.github.com\n",
    "- Login / Register \n",
    "- Click on \"New Repository\"\n",
    "- Go to the repository\n",
    "- Click on Add file -> Upload Files\n",
    "- Upload Each Day's Assignment"
   ]
  },
  {
   "cell_type": "code",
   "execution_count": null,
   "metadata": {},
   "outputs": [],
   "source": []
  }
 ],
 "metadata": {
  "kernelspec": {
   "display_name": "Python 3",
   "language": "python",
   "name": "python3"
  },
  "language_info": {
   "codemirror_mode": {
    "name": "ipython",
    "version": 3
   },
   "file_extension": ".py",
   "mimetype": "text/x-python",
   "name": "python",
   "nbconvert_exporter": "python",
   "pygments_lexer": "ipython3",
   "version": "3.7.3"
  }
 },
 "nbformat": 4,
 "nbformat_minor": 2
}
