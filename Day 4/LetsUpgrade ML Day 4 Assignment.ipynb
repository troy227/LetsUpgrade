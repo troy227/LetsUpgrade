{
 "cells": [
  {
   "cell_type": "markdown",
   "metadata": {},
   "source": [
    "## Question 1 \n",
    "### Research on whether addition, subtraction, multiplication, division, floor division and modulo operations be performed on complex numbers. Based on your study, implement a Python program to demonstrate these operations."
   ]
  },
  {
   "cell_type": "code",
   "execution_count": 2,
   "metadata": {},
   "outputs": [],
   "source": [
    "def add(a,b):\n",
    "    return a+b\n",
    "def sub(a,b):\n",
    "    return a-b\n",
    "def mul(a,b):\n",
    "    return a*b\n",
    "def div(a,b):\n",
    "    return a/b"
   ]
  },
  {
   "cell_type": "code",
   "execution_count": 6,
   "metadata": {},
   "outputs": [
    {
     "name": "stdout",
     "output_type": "stream",
     "text": [
      "Enter real and imaginary parts seperated with a space\n",
      "3 6\n",
      "5 8\n",
      "(8+14j)\n",
      "(-2-2j)\n",
      "(-33+54j)\n",
      "(0.7078651685393258+0.06741573033707865j)\n"
     ]
    }
   ],
   "source": [
    "print(\"Enter real and imaginary parts seperated with a space\")\n",
    "a,b=map(int, input().split())\n",
    "c,d=map(int, input().split())\n",
    "z1=complex(a,b)\n",
    "z2=complex(c,d)\n",
    "print(add(z1,z2))\n",
    "print(sub(z1,z2))\n",
    "print(mul(z1,z2))\n",
    "print(div(z1,z2))"
   ]
  },
  {
   "cell_type": "markdown",
   "metadata": {},
   "source": [
    "#### We can't mod complex numbers or do a floor division but rest of the operations are possible so i've created the functions ."
   ]
  },
  {
   "cell_type": "markdown",
   "metadata": {},
   "source": [
    "## Question 2 :\n",
    "### Research on range() functions and its parameters. Create a markdown cell and write in your own words (no copy-paste from google please) what you understand about it. Implement a small program of your choice on the same."
   ]
  },
  {
   "cell_type": "markdown",
   "metadata": {},
   "source": [
    "- range() function is generally used to iterate a certain number of times\n",
    "- range() function takes 1 compulsary parameter and 2 optional parameters\n",
    "- range(1,11,3)\n",
    "                -> \"1\" is the starting number\n",
    "                -> \"11\" is the ending number so the loop will end at 10\n",
    "                -> \"3\" is the number of steps per iteration, so loop will go 1->4->7->10\n",
    "- range() starts from 0 by default and its step is 1 by default\n",
    "\n",
    "#### Program for range function is given below"
   ]
  },
  {
   "cell_type": "code",
   "execution_count": 7,
   "metadata": {},
   "outputs": [
    {
     "name": "stdout",
     "output_type": "stream",
     "text": [
      "1 4 7 10 "
     ]
    }
   ],
   "source": [
    "for i in range(1,11,3):\n",
    "    print(i,end=\" \")"
   ]
  },
  {
   "cell_type": "markdown",
   "metadata": {},
   "source": [
    "## Question 3:\n",
    "### Consider two numbers. Perform their subtraction and if the result of subtraction is greater than 25, print their multiplication result else print their division result.\n"
   ]
  },
  {
   "cell_type": "code",
   "execution_count": 8,
   "metadata": {},
   "outputs": [
    {
     "name": "stdout",
     "output_type": "stream",
     "text": [
      "Enter first number-50\n",
      "Enter second number-25\n",
      "2.0\n"
     ]
    }
   ],
   "source": [
    "a=int(input(\"Enter first number-\"))\n",
    "b=int(input(\"Enter second number-\"))\n",
    "if (a-b)>25:\n",
    "    print(a*b)\n",
    "else:\n",
    "    print(a/b)"
   ]
  },
  {
   "cell_type": "markdown",
   "metadata": {},
   "source": [
    "## Question 4:\n",
    "### Consider a list of 10 elements of integer values. If the number in the list is divisible by 2, print the result as \"square of that number minus 2\".\n"
   ]
  },
  {
   "cell_type": "code",
   "execution_count": 10,
   "metadata": {},
   "outputs": [
    {
     "name": "stdout",
     "output_type": "stream",
     "text": [
      "Enter List values in one line\n",
      "1 2 3 4 5 6 7 8 9 10\n",
      "2\n",
      "14\n",
      "34\n",
      "62\n",
      "98\n"
     ]
    }
   ],
   "source": [
    "print(\"Enter List values in one line\")\n",
    "a=list(map(int, input().split()))\n",
    "for i in a:\n",
    "    if i%2==0:\n",
    "        print((i**2)-2)\n",
    "    "
   ]
  },
  {
   "cell_type": "markdown",
   "metadata": {},
   "source": [
    "## Question 5:\n",
    "### Consider a list of 10 elements. Print all the elements in the list which are greater than 7 when that number is divided 2."
   ]
  },
  {
   "cell_type": "code",
   "execution_count": 11,
   "metadata": {},
   "outputs": [
    {
     "name": "stdout",
     "output_type": "stream",
     "text": [
      "Enter List values in one line\n",
      "10 20 15 8 18 20 21 23 22 17\n",
      "20 15 18 20 21 23 22 17 "
     ]
    }
   ],
   "source": [
    "print(\"Enter List values in one line\")\n",
    "a=list(map(int, input().split()))\n",
    "for i in a:\n",
    "    if i/2 > 7:\n",
    "        print(i,end=\" \")"
   ]
  }
 ],
 "metadata": {
  "kernelspec": {
   "display_name": "Python 3",
   "language": "python",
   "name": "python3"
  },
  "language_info": {
   "codemirror_mode": {
    "name": "ipython",
    "version": 3
   },
   "file_extension": ".py",
   "mimetype": "text/x-python",
   "name": "python",
   "nbconvert_exporter": "python",
   "pygments_lexer": "ipython3",
   "version": "3.7.3"
  }
 },
 "nbformat": 4,
 "nbformat_minor": 2
}
