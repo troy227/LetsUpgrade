{
 "cells": [
  {
   "cell_type": "markdown",
   "metadata": {},
   "source": [
    "## Question 1 :\n",
    "### Write a Python program to find the first 20 non-even prime natural numbers ."
   ]
  },
  {
   "cell_type": "code",
   "execution_count": 3,
   "metadata": {},
   "outputs": [],
   "source": [
    "def checkprime(n):\n",
    "    count=0\n",
    "    for i in range(1,(n//2)+1):\n",
    "        if n%i==0:\n",
    "            count+=1\n",
    "            \n",
    "    if count==1:\n",
    "        return True\n",
    "    else:\n",
    "        return False"
   ]
  },
  {
   "cell_type": "code",
   "execution_count": 5,
   "metadata": {},
   "outputs": [
    {
     "name": "stdout",
     "output_type": "stream",
     "text": [
      "3 5 7 11 13 17 19 23 29 31 37 41 43 47 53 59 61 67 71 73 "
     ]
    }
   ],
   "source": [
    "nos=0\n",
    "for i in range(3,100):\n",
    "    if checkprime(i):\n",
    "        nos+=1\n",
    "        print(i,end=\" \")\n",
    "    if nos==20:\n",
    "        break\n",
    "    "
   ]
  },
  {
   "cell_type": "markdown",
   "metadata": {},
   "source": [
    "## Question 2 :\n",
    "### Write a Python program to implement 15 functions of string"
   ]
  },
  {
   "cell_type": "code",
   "execution_count": 10,
   "metadata": {},
   "outputs": [
    {
     "name": "stdout",
     "output_type": "stream",
     "text": [
      "tUSHAR\n",
      "tushar\n",
      "TUSHAR\n",
      "True\n",
      "rushar\n",
      "6\n",
      "-1\n",
      "4\n",
      "1\n",
      "3\n",
      "True\n",
      "True\n",
      "False\n",
      "False\n",
      "['Tushar', 'Roy']\n"
     ]
    }
   ],
   "source": [
    "a=\"Tushar\"\n",
    "\n",
    "print(a.swapcase())\n",
    "print(a.lower())\n",
    "print(a.upper())\n",
    "print(a.isalpha())\n",
    "print(a.replace('T','r'))\n",
    "print(len(a))\n",
    "print(a.find('S'))\n",
    "print(a.find('a',3,5))\n",
    "print(a.count('a'))\n",
    "print(a.index('h'))\n",
    "print(\"tushar123\".isalnum())\n",
    "print(\"123\".isdigit())\n",
    "print(a.isupper())\n",
    "print(a.islower())\n",
    "print(\"Tushar Roy\".split())"
   ]
  },
  {
   "cell_type": "markdown",
   "metadata": {},
   "source": [
    "## Question 3:\n",
    "### Write a Python program to check if the given string is a Palindrome or Anagram or None of them.\n",
    "### Display the message accordingly to the user"
   ]
  },
  {
   "cell_type": "code",
   "execution_count": 14,
   "metadata": {},
   "outputs": [
    {
     "name": "stdout",
     "output_type": "stream",
     "text": [
      "madam\n",
      "daamm\n",
      "madam  is Palindrome\n",
      "madam  and  daamm  are Anagrams\n"
     ]
    }
   ],
   "source": [
    "a=input()\n",
    "b=input()\n",
    "\n",
    "if a==a[::-1]:\n",
    "    print(a, \" is Palindrome\")\n",
    "if b==b[::-1]:\n",
    "    print(b,\" is Palindrome\")\n",
    "a1=sorted(a)\n",
    "b1=sorted(b)\n",
    "if a1==b1:\n",
    "    print(''.join(a),' and ',''.join(b),' are Anagrams')\n",
    "else:\n",
    "    print(''.join(a),' and ',''.join(b),' have no relation ')\n",
    "\n",
    "    "
   ]
  },
  {
   "cell_type": "markdown",
   "metadata": {},
   "source": [
    "## Question 4:\n",
    "### Write a Python's user defined function that removes all the additional characters from the string and converts it finally to lower case using built-in lower(). eg: If the string is \"Dr. Darshan Ingle @AI-ML Trainer\", then the output be \"drdarshaningle aimltrainer\"."
   ]
  },
  {
   "cell_type": "code",
   "execution_count": 2,
   "metadata": {},
   "outputs": [
    {
     "name": "stdout",
     "output_type": "stream",
     "text": [
      "Dr. Darshan Ingle @AI-ML Trainer\n",
      "drdarshaningle aimltrainer\n"
     ]
    }
   ],
   "source": [
    "def convert(s):\n",
    "    s = s.lower()\n",
    "    new=\"\"\n",
    "    for i in s:\n",
    "        if i==\"@\":\n",
    "            new+=\" \"\n",
    "        elif i.isalpha() :\n",
    "            \n",
    "            new+=i\n",
    "    return new\n",
    "s=input()\n",
    "print(convert(s))"
   ]
  },
  {
   "cell_type": "code",
   "execution_count": null,
   "metadata": {},
   "outputs": [],
   "source": []
  }
 ],
 "metadata": {
  "kernelspec": {
   "display_name": "Python 3",
   "language": "python",
   "name": "python3"
  },
  "language_info": {
   "codemirror_mode": {
    "name": "ipython",
    "version": 3
   },
   "file_extension": ".py",
   "mimetype": "text/x-python",
   "name": "python",
   "nbconvert_exporter": "python",
   "pygments_lexer": "ipython3",
   "version": "3.7.3"
  }
 },
 "nbformat": 4,
 "nbformat_minor": 2
}
