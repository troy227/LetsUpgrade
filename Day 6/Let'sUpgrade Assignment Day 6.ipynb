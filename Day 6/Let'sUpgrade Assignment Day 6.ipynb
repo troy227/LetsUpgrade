{
 "cells": [
  {
   "cell_type": "markdown",
   "metadata": {},
   "source": [
    "## Question 1:\n",
    "### Assuming that we have some email addresses in the \"username@companyname.com\" format, please write program to print the company name of a given email address. Both user names and company names are composed of letters only."
   ]
  },
  {
   "cell_type": "code",
   "execution_count": 1,
   "metadata": {},
   "outputs": [
    {
     "name": "stdout",
     "output_type": "stream",
     "text": [
      "Email input-tushar@letsupgrade.com\n",
      "The Company name is- letsupgrade\n"
     ]
    }
   ],
   "source": [
    "a=input(\"Email input-\")\n",
    "pos1=float('inf')\n",
    "pos2=0\n",
    "for i in range(len(a)):\n",
    "    if a[i]=='@':\n",
    "        pos1=i\n",
    "    if i>pos1 and a[i]=='.':\n",
    "        pos2=i\n",
    "print(\"The Company name is-\",a[pos1+1:pos2])"
   ]
  },
  {
   "cell_type": "markdown",
   "metadata": {},
   "source": [
    "## Question 2:\n",
    "### Write a program that accepts a comma-separated sequence of words as input and prints the words in a comma separated sequence after sorting them alphabetically.\n"
   ]
  },
  {
   "cell_type": "code",
   "execution_count": 2,
   "metadata": {},
   "outputs": [
    {
     "name": "stdout",
     "output_type": "stream",
     "text": [
      "with,hello,bag,world\n",
      "bag,hello,with,world\n"
     ]
    }
   ],
   "source": [
    "a=list(input().split(\",\"))\n",
    "a=sorted(a)\n",
    "print(\",\".join(a))"
   ]
  },
  {
   "cell_type": "markdown",
   "metadata": {},
   "source": [
    "## Question 3:\n",
    "### Create your own Jupyter Notebook for Sets.\n",
    "### Reference link: https://www.w3schools.com/python/python_sets.asp"
   ]
  },
  {
   "cell_type": "code",
   "execution_count": 3,
   "metadata": {},
   "outputs": [
    {
     "name": "stdout",
     "output_type": "stream",
     "text": [
      "The set is- {'a', 'b', 'c'}\n",
      "Set elements one by one-\n",
      "a\n",
      "b\n",
      "c\n",
      "Length of set- 3\n",
      "c is in set\n",
      "After updating with 'd'  {'d', 'a', 'b', 'c'}\n"
     ]
    }
   ],
   "source": [
    "a=set(['a','b','c'])\n",
    "print(\"The set is-\",a)\n",
    "print(\"Set elements one by one-\")\n",
    "for i in a:\n",
    "    print(i)\n",
    "print(\"Length of set-\",len(a))\n",
    "if 'c' in a:\n",
    "    print(\"c is in set\")\n",
    "a.update('d')\n",
    "print(\"After updating with 'd' \",a)"
   ]
  },
  {
   "cell_type": "markdown",
   "metadata": {},
   "source": [
    "## Question 4:\n",
    "### Given a list of n-1 numbers ranging from 1 to n, your task is to find the missing number. There are no duplicates.\n"
   ]
  },
  {
   "cell_type": "code",
   "execution_count": 4,
   "metadata": {},
   "outputs": [
    {
     "name": "stdout",
     "output_type": "stream",
     "text": [
      "1 2 4 6 3 7 8\n",
      "5\n"
     ]
    }
   ],
   "source": [
    "a=list(map(int, input().split()))\n",
    "a=sorted(a)\n",
    "for i in range(len(a)):\n",
    "    if a[i]!=i+1:\n",
    "        print(i+1)\n",
    "        break"
   ]
  },
  {
   "cell_type": "markdown",
   "metadata": {},
   "source": [
    "## Question 5:\n",
    "### With a given list L, write a program to print this list L after removing all duplicate values with original order reserved.\n"
   ]
  },
  {
   "cell_type": "code",
   "execution_count": 5,
   "metadata": {},
   "outputs": [
    {
     "name": "stdout",
     "output_type": "stream",
     "text": [
      "12 24 35 24 88 120 155 88 120 155\n",
      "The Updated List is -\n",
      "12 24 35 88 120 155 "
     ]
    }
   ],
   "source": [
    "a=list(map(int, input().split()))\n",
    "a=set(a)\n",
    "a=list(a)\n",
    "a=sorted(a)\n",
    "print(\"The Updated List is -\")\n",
    "for i in a:\n",
    "    print(i,end=\" \")"
   ]
  }
 ],
 "metadata": {
  "kernelspec": {
   "display_name": "Python 3",
   "language": "python",
   "name": "python3"
  },
  "language_info": {
   "codemirror_mode": {
    "name": "ipython",
    "version": 3
   },
   "file_extension": ".py",
   "mimetype": "text/x-python",
   "name": "python",
   "nbconvert_exporter": "python",
   "pygments_lexer": "ipython3",
   "version": "3.7.3"
  }
 },
 "nbformat": 4,
 "nbformat_minor": 2
}
